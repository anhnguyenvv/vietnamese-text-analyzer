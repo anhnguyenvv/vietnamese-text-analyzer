{
 "cells": [
  {
   "cell_type": "code",
   "execution_count": 1,
   "id": "c044e529",
   "metadata": {
    "_kg_hide-output": true,
    "execution": {
     "iopub.execute_input": "2025-07-07T21:31:44.437566Z",
     "iopub.status.busy": "2025-07-07T21:31:44.437286Z",
     "iopub.status.idle": "2025-07-07T21:32:10.662859Z",
     "shell.execute_reply": "2025-07-07T21:32:10.661944Z"
    },
    "papermill": {
     "duration": 26.235909,
     "end_time": "2025-07-07T21:32:10.665091",
     "exception": false,
     "start_time": "2025-07-07T21:31:44.429182",
     "status": "completed"
    },
    "tags": []
   },
   "outputs": [
    {
     "name": "stdout",
     "output_type": "stream",
     "text": [
      "Collecting seqeval\r\n",
      "  Downloading seqeval-1.2.2.tar.gz (43 kB)\r\n",
      "\u001b[2K     \u001b[90m━━━━━━━━━━━━━━━━━━━━━━━━━━━━━━━━━━━━━━━━\u001b[0m \u001b[32m43.6/43.6 kB\u001b[0m \u001b[31m1.6 MB/s\u001b[0m eta \u001b[36m0:00:00\u001b[0m\r\n",
      "\u001b[?25h  Preparing metadata (setup.py) ... \u001b[?25l\u001b[?25hdone\r\n",
      "Requirement already satisfied: numpy>=1.14.0 in /usr/local/lib/python3.11/dist-packages (from seqeval) (1.26.4)\r\n",
      "Requirement already satisfied: scikit-learn>=0.21.3 in /usr/local/lib/python3.11/dist-packages (from seqeval) (1.2.2)\r\n",
      "Requirement already satisfied: mkl_fft in /usr/local/lib/python3.11/dist-packages (from numpy>=1.14.0->seqeval) (1.3.8)\r\n",
      "Requirement already satisfied: mkl_random in /usr/local/lib/python3.11/dist-packages (from numpy>=1.14.0->seqeval) (1.2.4)\r\n",
      "Requirement already satisfied: mkl_umath in /usr/local/lib/python3.11/dist-packages (from numpy>=1.14.0->seqeval) (0.1.1)\r\n",
      "Requirement already satisfied: mkl in /usr/local/lib/python3.11/dist-packages (from numpy>=1.14.0->seqeval) (2025.1.0)\r\n",
      "Requirement already satisfied: tbb4py in /usr/local/lib/python3.11/dist-packages (from numpy>=1.14.0->seqeval) (2022.1.0)\r\n",
      "Requirement already satisfied: mkl-service in /usr/local/lib/python3.11/dist-packages (from numpy>=1.14.0->seqeval) (2.4.1)\r\n",
      "Requirement already satisfied: scipy>=1.3.2 in /usr/local/lib/python3.11/dist-packages (from scikit-learn>=0.21.3->seqeval) (1.15.2)\r\n",
      "Requirement already satisfied: joblib>=1.1.1 in /usr/local/lib/python3.11/dist-packages (from scikit-learn>=0.21.3->seqeval) (1.5.0)\r\n",
      "Requirement already satisfied: threadpoolctl>=2.0.0 in /usr/local/lib/python3.11/dist-packages (from scikit-learn>=0.21.3->seqeval) (3.6.0)\r\n",
      "Requirement already satisfied: intel-openmp<2026,>=2024 in /usr/local/lib/python3.11/dist-packages (from mkl->numpy>=1.14.0->seqeval) (2024.2.0)\r\n",
      "Requirement already satisfied: tbb==2022.* in /usr/local/lib/python3.11/dist-packages (from mkl->numpy>=1.14.0->seqeval) (2022.1.0)\r\n",
      "Requirement already satisfied: tcmlib==1.* in /usr/local/lib/python3.11/dist-packages (from tbb==2022.*->mkl->numpy>=1.14.0->seqeval) (1.3.0)\r\n",
      "Requirement already satisfied: intel-cmplr-lib-rt in /usr/local/lib/python3.11/dist-packages (from mkl_umath->numpy>=1.14.0->seqeval) (2024.2.0)\r\n",
      "Requirement already satisfied: intel-cmplr-lib-ur==2024.2.0 in /usr/local/lib/python3.11/dist-packages (from intel-openmp<2026,>=2024->mkl->numpy>=1.14.0->seqeval) (2024.2.0)\r\n",
      "Building wheels for collected packages: seqeval\r\n",
      "  Building wheel for seqeval (setup.py) ... \u001b[?25l\u001b[?25hdone\r\n",
      "  Created wheel for seqeval: filename=seqeval-1.2.2-py3-none-any.whl size=16162 sha256=732aa23b46f825661f9b74b9d4a720a692c7416e608684614c70f48341ca968b\r\n",
      "  Stored in directory: /root/.cache/pip/wheels/bc/92/f0/243288f899c2eacdfa8c5f9aede4c71a9bad0ee26a01dc5ead\r\n",
      "Successfully built seqeval\r\n",
      "Installing collected packages: seqeval\r\n",
      "Successfully installed seqeval-1.2.2\r\n",
      "Collecting vncorenlp\r\n",
      "  Downloading vncorenlp-1.0.3.tar.gz (2.6 MB)\r\n",
      "\u001b[2K     \u001b[90m━━━━━━━━━━━━━━━━━━━━━━━━━━━━━━━━━━━━━━━━\u001b[0m \u001b[32m2.6/2.6 MB\u001b[0m \u001b[31m27.3 MB/s\u001b[0m eta \u001b[36m0:00:00\u001b[0m\r\n",
      "\u001b[?25h  Preparing metadata (setup.py) ... \u001b[?25l\u001b[?25hdone\r\n",
      "Requirement already satisfied: requests in /usr/local/lib/python3.11/dist-packages (from vncorenlp) (2.32.3)\r\n",
      "Requirement already satisfied: charset-normalizer<4,>=2 in /usr/local/lib/python3.11/dist-packages (from requests->vncorenlp) (3.4.2)\r\n",
      "Requirement already satisfied: idna<4,>=2.5 in /usr/local/lib/python3.11/dist-packages (from requests->vncorenlp) (3.10)\r\n",
      "Requirement already satisfied: urllib3<3,>=1.21.1 in /usr/local/lib/python3.11/dist-packages (from requests->vncorenlp) (2.4.0)\r\n",
      "Requirement already satisfied: certifi>=2017.4.17 in /usr/local/lib/python3.11/dist-packages (from requests->vncorenlp) (2025.4.26)\r\n",
      "Building wheels for collected packages: vncorenlp\r\n",
      "  Building wheel for vncorenlp (setup.py) ... \u001b[?25l\u001b[?25hdone\r\n",
      "  Created wheel for vncorenlp: filename=vncorenlp-1.0.3-py3-none-any.whl size=2645933 sha256=c752be532e39d8c7d27167fae835f7941fd9c43c28f23beeb4dc3857fab542a2\r\n",
      "  Stored in directory: /root/.cache/pip/wheels/80/ad/d4/9e1a0939f63331a3898f2a951a368bbf0d69f7b027cae4d66b\r\n",
      "Successfully built vncorenlp\r\n",
      "Installing collected packages: vncorenlp\r\n",
      "Successfully installed vncorenlp-1.0.3\r\n",
      "Collecting underthesea\r\n",
      "  Downloading underthesea-6.8.4-py3-none-any.whl.metadata (15 kB)\r\n",
      "Requirement already satisfied: Click>=6.0 in /usr/local/lib/python3.11/dist-packages (from underthesea) (8.1.8)\r\n",
      "Collecting python-crfsuite>=0.9.6 (from underthesea)\r\n",
      "  Downloading python_crfsuite-0.9.11-cp311-cp311-manylinux_2_17_x86_64.manylinux2014_x86_64.whl.metadata (4.3 kB)\r\n",
      "Requirement already satisfied: nltk in /usr/local/lib/python3.11/dist-packages (from underthesea) (3.9.1)\r\n",
      "Requirement already satisfied: tqdm in /usr/local/lib/python3.11/dist-packages (from underthesea) (4.67.1)\r\n",
      "Requirement already satisfied: requests in /usr/local/lib/python3.11/dist-packages (from underthesea) (2.32.3)\r\n",
      "Requirement already satisfied: joblib in /usr/local/lib/python3.11/dist-packages (from underthesea) (1.5.0)\r\n",
      "Requirement already satisfied: scikit-learn in /usr/local/lib/python3.11/dist-packages (from underthesea) (1.2.2)\r\n",
      "Requirement already satisfied: PyYAML in /usr/local/lib/python3.11/dist-packages (from underthesea) (6.0.2)\r\n",
      "Collecting underthesea-core==1.0.4 (from underthesea)\r\n",
      "  Downloading underthesea_core-1.0.4-cp311-cp311-manylinux2010_x86_64.whl.metadata (1.7 kB)\r\n",
      "Requirement already satisfied: regex>=2021.8.3 in /usr/local/lib/python3.11/dist-packages (from nltk->underthesea) (2024.11.6)\r\n",
      "Requirement already satisfied: charset-normalizer<4,>=2 in /usr/local/lib/python3.11/dist-packages (from requests->underthesea) (3.4.2)\r\n",
      "Requirement already satisfied: idna<4,>=2.5 in /usr/local/lib/python3.11/dist-packages (from requests->underthesea) (3.10)\r\n",
      "Requirement already satisfied: urllib3<3,>=1.21.1 in /usr/local/lib/python3.11/dist-packages (from requests->underthesea) (2.4.0)\r\n",
      "Requirement already satisfied: certifi>=2017.4.17 in /usr/local/lib/python3.11/dist-packages (from requests->underthesea) (2025.4.26)\r\n",
      "Requirement already satisfied: numpy>=1.17.3 in /usr/local/lib/python3.11/dist-packages (from scikit-learn->underthesea) (1.26.4)\r\n",
      "Requirement already satisfied: scipy>=1.3.2 in /usr/local/lib/python3.11/dist-packages (from scikit-learn->underthesea) (1.15.2)\r\n",
      "Requirement already satisfied: threadpoolctl>=2.0.0 in /usr/local/lib/python3.11/dist-packages (from scikit-learn->underthesea) (3.6.0)\r\n",
      "Requirement already satisfied: mkl_fft in /usr/local/lib/python3.11/dist-packages (from numpy>=1.17.3->scikit-learn->underthesea) (1.3.8)\r\n",
      "Requirement already satisfied: mkl_random in /usr/local/lib/python3.11/dist-packages (from numpy>=1.17.3->scikit-learn->underthesea) (1.2.4)\r\n",
      "Requirement already satisfied: mkl_umath in /usr/local/lib/python3.11/dist-packages (from numpy>=1.17.3->scikit-learn->underthesea) (0.1.1)\r\n",
      "Requirement already satisfied: mkl in /usr/local/lib/python3.11/dist-packages (from numpy>=1.17.3->scikit-learn->underthesea) (2025.1.0)\r\n",
      "Requirement already satisfied: tbb4py in /usr/local/lib/python3.11/dist-packages (from numpy>=1.17.3->scikit-learn->underthesea) (2022.1.0)\r\n",
      "Requirement already satisfied: mkl-service in /usr/local/lib/python3.11/dist-packages (from numpy>=1.17.3->scikit-learn->underthesea) (2.4.1)\r\n",
      "Requirement already satisfied: intel-openmp<2026,>=2024 in /usr/local/lib/python3.11/dist-packages (from mkl->numpy>=1.17.3->scikit-learn->underthesea) (2024.2.0)\r\n",
      "Requirement already satisfied: tbb==2022.* in /usr/local/lib/python3.11/dist-packages (from mkl->numpy>=1.17.3->scikit-learn->underthesea) (2022.1.0)\r\n",
      "Requirement already satisfied: tcmlib==1.* in /usr/local/lib/python3.11/dist-packages (from tbb==2022.*->mkl->numpy>=1.17.3->scikit-learn->underthesea) (1.3.0)\r\n",
      "Requirement already satisfied: intel-cmplr-lib-rt in /usr/local/lib/python3.11/dist-packages (from mkl_umath->numpy>=1.17.3->scikit-learn->underthesea) (2024.2.0)\r\n",
      "Requirement already satisfied: intel-cmplr-lib-ur==2024.2.0 in /usr/local/lib/python3.11/dist-packages (from intel-openmp<2026,>=2024->mkl->numpy>=1.17.3->scikit-learn->underthesea) (2024.2.0)\r\n",
      "Downloading underthesea-6.8.4-py3-none-any.whl (20.9 MB)\r\n",
      "\u001b[2K   \u001b[90m━━━━━━━━━━━━━━━━━━━━━━━━━━━━━━━━━━━━━━━━\u001b[0m \u001b[32m20.9/20.9 MB\u001b[0m \u001b[31m80.3 MB/s\u001b[0m eta \u001b[36m0:00:00\u001b[0m\r\n",
      "\u001b[?25hDownloading underthesea_core-1.0.4-cp311-cp311-manylinux2010_x86_64.whl (657 kB)\r\n",
      "\u001b[2K   \u001b[90m━━━━━━━━━━━━━━━━━━━━━━━━━━━━━━━━━━━━━━━━\u001b[0m \u001b[32m657.8/657.8 kB\u001b[0m \u001b[31m32.5 MB/s\u001b[0m eta \u001b[36m0:00:00\u001b[0m\r\n",
      "\u001b[?25hDownloading python_crfsuite-0.9.11-cp311-cp311-manylinux_2_17_x86_64.manylinux2014_x86_64.whl (1.3 MB)\r\n",
      "\u001b[2K   \u001b[90m━━━━━━━━━━━━━━━━━━━━━━━━━━━━━━━━━━━━━━━━\u001b[0m \u001b[32m1.3/1.3 MB\u001b[0m \u001b[31m55.0 MB/s\u001b[0m eta \u001b[36m0:00:00\u001b[0m\r\n",
      "\u001b[?25hInstalling collected packages: underthesea-core, python-crfsuite, underthesea\r\n",
      "Successfully installed python-crfsuite-0.9.11 underthesea-6.8.4 underthesea-core-1.0.4\r\n",
      "Cloning into 'VnCoreNLP'...\r\n",
      "remote: Enumerating objects: 259, done.\u001b[K\r\n",
      "remote: Counting objects: 100% (47/47), done.\u001b[K\r\n",
      "remote: Compressing objects: 100% (32/32), done.\u001b[K\r\n",
      "remote: Total 259 (delta 17), reused 33 (delta 11), pack-reused 212 (from 1)\u001b[K\r\n",
      "Receiving objects: 100% (259/259), 237.79 MiB | 44.63 MiB/s, done.\r\n",
      "Resolving deltas: 100% (93/93), done.\r\n"
     ]
    }
   ],
   "source": [
    "!pip install seqeval\n",
    "!pip install vncorenlp\n",
    "!pip install underthesea\n",
    "!git clone https://github.com/vncorenlp/VnCoreNLP.git\n"
   ]
  },
  {
   "cell_type": "code",
   "execution_count": 2,
   "id": "9c6fe5ca",
   "metadata": {
    "_kg_hide-output": true,
    "execution": {
     "iopub.execute_input": "2025-07-07T21:32:10.683012Z",
     "iopub.status.busy": "2025-07-07T21:32:10.682717Z",
     "iopub.status.idle": "2025-07-07T21:32:18.701329Z",
     "shell.execute_reply": "2025-07-07T21:32:18.700359Z"
    },
    "papermill": {
     "duration": 8.029094,
     "end_time": "2025-07-07T21:32:18.702991",
     "exception": false,
     "start_time": "2025-07-07T21:32:10.673897",
     "status": "completed"
    },
    "tags": []
   },
   "outputs": [
    {
     "name": "stdout",
     "output_type": "stream",
     "text": [
      "--2025-07-07 21:32:10--  https://github.com/vncorenlp/VnCoreNLP/archive/refs/tags/v1.2.zip\r\n",
      "Resolving github.com (github.com)... 140.82.113.4\r\n",
      "Connecting to github.com (github.com)|140.82.113.4|:443... connected.\r\n",
      "HTTP request sent, awaiting response... 302 Found\r\n",
      "Location: https://codeload.github.com/vncorenlp/VnCoreNLP/zip/refs/tags/v1.2 [following]\r\n",
      "--2025-07-07 21:32:10--  https://codeload.github.com/vncorenlp/VnCoreNLP/zip/refs/tags/v1.2\r\n",
      "Resolving codeload.github.com (codeload.github.com)... 140.82.112.9\r\n",
      "Connecting to codeload.github.com (codeload.github.com)|140.82.112.9|:443... connected.\r\n",
      "HTTP request sent, awaiting response... 200 OK\r\n",
      "Length: unspecified [application/zip]\r\n",
      "Saving to: ‘v1.2.zip’\r\n",
      "\r\n",
      "v1.2.zip                [         <=>        ] 160.83M  25.9MB/s    in 6.2s    \r\n",
      "\r\n",
      "2025-07-07 21:32:17 (25.9 MB/s) - ‘v1.2.zip’ saved [168648673]\r\n",
      "\r\n",
      "Archive:  v1.2.zip\r\n",
      "62bbc58fe5d113c898eae112656be97dcf50b3a0\r\n",
      "   creating: VnCoreNLP-1.2/\r\n",
      "  inflating: VnCoreNLP-1.2/LICENSE.md  \r\n",
      "  inflating: VnCoreNLP-1.2/Readme.md  \r\n",
      "  inflating: VnCoreNLP-1.2/TagsetDescription.md  \r\n",
      "  inflating: VnCoreNLP-1.2/VLSP2013_POS_tagset.pdf  \r\n",
      "  inflating: VnCoreNLP-1.2/VnCoreNLP-1.1.1.jar  \r\n",
      "  inflating: VnCoreNLP-1.2/VnCoreNLP-1.2.jar  \r\n",
      "  inflating: VnCoreNLP-1.2/VnDT-treebank-description.pdf  \r\n",
      "   creating: VnCoreNLP-1.2/models/\r\n",
      "   creating: VnCoreNLP-1.2/models/dep/\r\n",
      " extracting: VnCoreNLP-1.2/models/dep/vi-dep.xz  \r\n",
      "   creating: VnCoreNLP-1.2/models/ner/\r\n",
      " extracting: VnCoreNLP-1.2/models/ner/vi-500brownclusters.xz  \r\n",
      " extracting: VnCoreNLP-1.2/models/ner/vi-ner.xz  \r\n",
      " extracting: VnCoreNLP-1.2/models/ner/vi-pretrainedembeddings.xz  \r\n",
      "   creating: VnCoreNLP-1.2/models/postagger/\r\n",
      " extracting: VnCoreNLP-1.2/models/postagger/vi-tagger  \r\n",
      "   creating: VnCoreNLP-1.2/models/wordsegmenter/\r\n",
      "  inflating: VnCoreNLP-1.2/models/wordsegmenter/vi-vocab  \r\n",
      "  inflating: VnCoreNLP-1.2/models/wordsegmenter/wordsegmenter.rdr  \r\n",
      "  inflating: VnCoreNLP-1.2/pom.xml   \r\n",
      "   creating: VnCoreNLP-1.2/src/\r\n",
      "   creating: VnCoreNLP-1.2/src/main/\r\n",
      "   creating: VnCoreNLP-1.2/src/main/java/\r\n",
      "   creating: VnCoreNLP-1.2/src/main/java/vn/\r\n",
      "   creating: VnCoreNLP-1.2/src/main/java/vn/corenlp/\r\n",
      "   creating: VnCoreNLP-1.2/src/main/java/vn/corenlp/ner/\r\n",
      "  inflating: VnCoreNLP-1.2/src/main/java/vn/corenlp/ner/NerRecognizer.java  \r\n",
      "   creating: VnCoreNLP-1.2/src/main/java/vn/corenlp/parser/\r\n",
      "  inflating: VnCoreNLP-1.2/src/main/java/vn/corenlp/parser/DependencyParser.java  \r\n",
      "   creating: VnCoreNLP-1.2/src/main/java/vn/corenlp/postagger/\r\n",
      "  inflating: VnCoreNLP-1.2/src/main/java/vn/corenlp/postagger/PosTagger.java  \r\n",
      "   creating: VnCoreNLP-1.2/src/main/java/vn/corenlp/tokenizer/\r\n",
      "  inflating: VnCoreNLP-1.2/src/main/java/vn/corenlp/tokenizer/StringUtils.java  \r\n",
      "  inflating: VnCoreNLP-1.2/src/main/java/vn/corenlp/tokenizer/Tokenizer.java  \r\n",
      "   creating: VnCoreNLP-1.2/src/main/java/vn/corenlp/wordsegmenter/\r\n",
      "  inflating: VnCoreNLP-1.2/src/main/java/vn/corenlp/wordsegmenter/FWObject.java  \r\n",
      "  inflating: VnCoreNLP-1.2/src/main/java/vn/corenlp/wordsegmenter/Node.java  \r\n",
      "  inflating: VnCoreNLP-1.2/src/main/java/vn/corenlp/wordsegmenter/Utils.java  \r\n",
      "  inflating: VnCoreNLP-1.2/src/main/java/vn/corenlp/wordsegmenter/Vocabulary.java  \r\n",
      "  inflating: VnCoreNLP-1.2/src/main/java/vn/corenlp/wordsegmenter/WordSegmenter.java  \r\n",
      "  inflating: VnCoreNLP-1.2/src/main/java/vn/corenlp/wordsegmenter/WordTag.java  \r\n",
      "   creating: VnCoreNLP-1.2/src/main/java/vn/pipeline/\r\n",
      "  inflating: VnCoreNLP-1.2/src/main/java/vn/pipeline/Annotation.java  \r\n",
      "  inflating: VnCoreNLP-1.2/src/main/java/vn/pipeline/LexicalInitializer.java  \r\n",
      "  inflating: VnCoreNLP-1.2/src/main/java/vn/pipeline/Sentence.java  \r\n",
      "  inflating: VnCoreNLP-1.2/src/main/java/vn/pipeline/Utils.java  \r\n",
      "  inflating: VnCoreNLP-1.2/src/main/java/vn/pipeline/VnCoreNLP.java  \r\n",
      "  inflating: VnCoreNLP-1.2/src/main/java/vn/pipeline/Word.java  \r\n",
      "   creating: VnCoreNLP-1.2/src/main/resources/\r\n",
      "  inflating: VnCoreNLP-1.2/src/main/resources/log4j.properties  \r\n",
      "   creating: VnCoreNLP-1.2/src/test/\r\n",
      "   creating: VnCoreNLP-1.2/src/test/java/\r\n",
      "  inflating: VnCoreNLP-1.2/src/test/java/VnCoreNLPExample.java  \r\n"
     ]
    }
   ],
   "source": [
    "!wget https://github.com/vncorenlp/VnCoreNLP/archive/refs/tags/v1.2.zip\n",
    "!unzip -o v1.2.zip \n"
   ]
  },
  {
   "cell_type": "code",
   "execution_count": 3,
   "id": "fdc7804b",
   "metadata": {
    "execution": {
     "iopub.execute_input": "2025-07-07T21:32:18.722797Z",
     "iopub.status.busy": "2025-07-07T21:32:18.722454Z",
     "iopub.status.idle": "2025-07-07T21:32:37.470973Z",
     "shell.execute_reply": "2025-07-07T21:32:37.470266Z"
    },
    "papermill": {
     "duration": 18.760212,
     "end_time": "2025-07-07T21:32:37.472490",
     "exception": false,
     "start_time": "2025-07-07T21:32:18.712278",
     "status": "completed"
    },
    "tags": []
   },
   "outputs": [],
   "source": [
    "import random, os\n",
    "import numpy as np\n",
    "import torch\n",
    "import pandas as pd\n",
    "from ast import literal_eval\n",
    "from io import StringIO\n",
    "from underthesea import ner, pos_tag\n",
    "from seqeval.metrics import classification_report, precision_score, recall_score, f1_score\n",
    "\n",
    "from vncorenlp import VnCoreNLP\n",
    "from tqdm.notebook import tqdm\n",
    "import time"
   ]
  },
  {
   "cell_type": "code",
   "execution_count": 4,
   "id": "04224bb2",
   "metadata": {
    "execution": {
     "iopub.execute_input": "2025-07-07T21:32:37.491738Z",
     "iopub.status.busy": "2025-07-07T21:32:37.491252Z",
     "iopub.status.idle": "2025-07-07T21:32:37.495363Z",
     "shell.execute_reply": "2025-07-07T21:32:37.494747Z"
    },
    "papermill": {
     "duration": 0.015102,
     "end_time": "2025-07-07T21:32:37.496480",
     "exception": false,
     "start_time": "2025-07-07T21:32:37.481378",
     "status": "completed"
    },
    "tags": []
   },
   "outputs": [],
   "source": [
    "VNCORENLP_DIR = os.path.join(\"/kaggle/working/VnCoreNLP-1.2/VnCoreNLP-1.2.jar\")"
   ]
  },
  {
   "cell_type": "code",
   "execution_count": 5,
   "id": "b6324a46",
   "metadata": {
    "execution": {
     "iopub.execute_input": "2025-07-07T21:32:37.517581Z",
     "iopub.status.busy": "2025-07-07T21:32:37.517282Z",
     "iopub.status.idle": "2025-07-07T21:33:07.914269Z",
     "shell.execute_reply": "2025-07-07T21:33:07.913236Z"
    },
    "papermill": {
     "duration": 30.410803,
     "end_time": "2025-07-07T21:33:07.916027",
     "exception": false,
     "start_time": "2025-07-07T21:32:37.505224",
     "status": "completed"
    },
    "tags": []
   },
   "outputs": [],
   "source": [
    "annotator = VnCoreNLP(VNCORENLP_DIR)"
   ]
  },
  {
   "cell_type": "markdown",
   "id": "91dbd136",
   "metadata": {
    "papermill": {
     "duration": 0.008575,
     "end_time": "2025-07-07T21:33:07.934149",
     "exception": false,
     "start_time": "2025-07-07T21:33:07.925574",
     "status": "completed"
    },
    "tags": []
   },
   "source": [
    "# Load data VLSP_2016_NER"
   ]
  },
  {
   "cell_type": "code",
   "execution_count": 6,
   "id": "b465c68e",
   "metadata": {
    "execution": {
     "iopub.execute_input": "2025-07-07T21:33:07.952412Z",
     "iopub.status.busy": "2025-07-07T21:33:07.952129Z",
     "iopub.status.idle": "2025-07-07T21:33:07.955930Z",
     "shell.execute_reply": "2025-07-07T21:33:07.955315Z"
    },
    "papermill": {
     "duration": 0.014349,
     "end_time": "2025-07-07T21:33:07.957104",
     "exception": false,
     "start_time": "2025-07-07T21:33:07.942755",
     "status": "completed"
    },
    "tags": []
   },
   "outputs": [],
   "source": [
    "\n",
    "df_train_dir = '../input/vlsp-2016-ner/train.csv'\n",
    "df_test_dir = '../input/vlsp-2016-ner/test.csv'\n",
    "df_dev_dir = '../input/vlsp-2016-ner/dev.csv'\n"
   ]
  },
  {
   "cell_type": "code",
   "execution_count": 7,
   "id": "160a7d5e",
   "metadata": {
    "execution": {
     "iopub.execute_input": "2025-07-07T21:33:07.975515Z",
     "iopub.status.busy": "2025-07-07T21:33:07.975236Z",
     "iopub.status.idle": "2025-07-07T21:33:13.731223Z",
     "shell.execute_reply": "2025-07-07T21:33:13.730326Z"
    },
    "papermill": {
     "duration": 5.766831,
     "end_time": "2025-07-07T21:33:13.732615",
     "exception": false,
     "start_time": "2025-07-07T21:33:07.965784",
     "status": "completed"
    },
    "tags": []
   },
   "outputs": [
    {
     "name": "stdout",
     "output_type": "stream",
     "text": [
      "        word  pos chunk    ner\n",
      "0   Trà_Vinh  NNP  B-NP  B-LOC\n",
      "1        thì    C     O      O\n",
      "2         cử    V  B-VP      O\n",
      "3        sáu    M  B-NP      O\n",
      "4   đồng_chí    N  B-NP      O\n",
      "5          ,   CH     O      O\n",
      "6       mang    V  B-VP      O\n",
      "7    bí_danh    N  B-NP      O\n",
      "8         là    C     O      O\n",
      "9       Đoàn  NNP  B-NP  B-PER\n",
      "10         ,   CH     O      O\n",
      "11       Kết  NNP  B-NP  B-PER\n",
      "12         ,   CH     O      O\n",
      "13       Đấu  NNP  B-NP  B-PER\n",
      "14         ,   CH     O      O\n",
      "15     Tranh  NNP  B-NP  B-PER\n",
      "16         ,   CH     O      O\n",
      "17     Thắng  NNP  B-NP  B-PER\n",
      "18         ,   CH     O      O\n",
      "19       Lợi  NNP  B-NP  B-PER\n",
      "20         .   CH     O      O\n"
     ]
    }
   ],
   "source": [
    "\n",
    "def load_df(file_dir):\n",
    "    # Đọc toàn bộ file vào chuỗi\n",
    "    with open(file_dir, encoding='utf-8') as f:\n",
    "        text = f.read()\n",
    "    \n",
    "    # Tách các đoạn theo '\\n\\n'\n",
    "    samples = text.strip().split('\\n\\n')\n",
    "    \n",
    "    # Chuyển mỗi đoạn thành DataFrame, lưu vào list\n",
    "    dataframes = []\n",
    "    for sample in samples:\n",
    "        # Bỏ qua đoạn rỗng\n",
    "        if not sample.strip():\n",
    "            continue\n",
    "        # Đọc đoạn thành DataFrame tạm thời\n",
    "        df = pd.read_csv(StringIO(sample), sep='\\t', skip_blank_lines=True,\n",
    "                         header=None, names=['word', 'pos', 'chunk', 'ner']) \n",
    "        df = df.dropna().reset_index(drop=True)\n",
    "\n",
    "        dataframes.append(df)\n",
    "    return dataframes\n",
    "df_test = load_df(df_test_dir)\n",
    "df_dev = load_df(df_dev_dir)\n",
    "\n",
    "print(df_test[0])"
   ]
  },
  {
   "cell_type": "code",
   "execution_count": 8,
   "id": "ff9242a0",
   "metadata": {
    "execution": {
     "iopub.execute_input": "2025-07-07T21:33:13.751166Z",
     "iopub.status.busy": "2025-07-07T21:33:13.750862Z",
     "iopub.status.idle": "2025-07-07T21:33:13.756454Z",
     "shell.execute_reply": "2025-07-07T21:33:13.755853Z"
    },
    "papermill": {
     "duration": 0.016063,
     "end_time": "2025-07-07T21:33:13.757528",
     "exception": false,
     "start_time": "2025-07-07T21:33:13.741465",
     "status": "completed"
    },
    "tags": []
   },
   "outputs": [
    {
     "data": {
      "text/plain": [
       "2530"
      ]
     },
     "execution_count": 8,
     "metadata": {},
     "output_type": "execute_result"
    }
   ],
   "source": [
    "len(df_test)"
   ]
  },
  {
   "cell_type": "code",
   "execution_count": 9,
   "id": "f0ab9247",
   "metadata": {
    "execution": {
     "iopub.execute_input": "2025-07-07T21:33:13.775588Z",
     "iopub.status.busy": "2025-07-07T21:33:13.775334Z",
     "iopub.status.idle": "2025-07-07T21:33:14.202889Z",
     "shell.execute_reply": "2025-07-07T21:33:14.202211Z"
    },
    "papermill": {
     "duration": 0.438206,
     "end_time": "2025-07-07T21:33:14.204441",
     "exception": false,
     "start_time": "2025-07-07T21:33:13.766235",
     "status": "completed"
    },
    "tags": []
   },
   "outputs": [],
   "source": [
    "for i, df in enumerate(df_test):\n",
    "    if df['word'].isna().any() or df['ner'].isna().any():\n",
    "        print(f\"\\nSample {i} chứa NaN toàn bộ câu:\")\n",
    "        print(df)"
   ]
  },
  {
   "cell_type": "code",
   "execution_count": 10,
   "id": "50104e2f",
   "metadata": {
    "execution": {
     "iopub.execute_input": "2025-07-07T21:33:14.223772Z",
     "iopub.status.busy": "2025-07-07T21:33:14.223137Z",
     "iopub.status.idle": "2025-07-07T21:33:14.227906Z",
     "shell.execute_reply": "2025-07-07T21:33:14.227110Z"
    },
    "papermill": {
     "duration": 0.015727,
     "end_time": "2025-07-07T21:33:14.229128",
     "exception": false,
     "start_time": "2025-07-07T21:33:14.213401",
     "status": "completed"
    },
    "tags": []
   },
   "outputs": [],
   "source": [
    "def read_conll_data(df_list):\n",
    "    sentences,pos_labels, ner_labels = [],  [],  []\n",
    "    for df in df_list:\n",
    "        sentences.append(df[\"word\"].tolist())\n",
    "        ner_labels.append(df[\"ner\"].tolist())\n",
    "        pos_labels.append(df[\"pos\"].tolist())\n",
    "        \n",
    "    return sentences, pos_labels, ner_labels"
   ]
  },
  {
   "cell_type": "code",
   "execution_count": 11,
   "id": "5d4db490",
   "metadata": {
    "execution": {
     "iopub.execute_input": "2025-07-07T21:33:14.248359Z",
     "iopub.status.busy": "2025-07-07T21:33:14.247598Z",
     "iopub.status.idle": "2025-07-07T21:33:14.622333Z",
     "shell.execute_reply": "2025-07-07T21:33:14.621669Z"
    },
    "papermill": {
     "duration": 0.385682,
     "end_time": "2025-07-07T21:33:14.623793",
     "exception": false,
     "start_time": "2025-07-07T21:33:14.238111",
     "status": "completed"
    },
    "tags": []
   },
   "outputs": [],
   "source": [
    "sentences, true_pos_labels, true_ner_labels = read_conll_data(df_test)\n",
    "true_pos_labels = [['Np' if tag == 'NNP' else tag for tag in pos_tags]for pos_tags in true_pos_labels]"
   ]
  },
  {
   "cell_type": "code",
   "execution_count": 12,
   "id": "bc479458",
   "metadata": {
    "execution": {
     "iopub.execute_input": "2025-07-07T21:33:14.643314Z",
     "iopub.status.busy": "2025-07-07T21:33:14.642537Z",
     "iopub.status.idle": "2025-07-07T21:33:14.647777Z",
     "shell.execute_reply": "2025-07-07T21:33:14.646870Z"
    },
    "papermill": {
     "duration": 0.016061,
     "end_time": "2025-07-07T21:33:14.648949",
     "exception": false,
     "start_time": "2025-07-07T21:33:14.632888",
     "status": "completed"
    },
    "tags": []
   },
   "outputs": [
    {
     "name": "stdout",
     "output_type": "stream",
     "text": [
      "Số câu: 2530\n",
      "Câu đầu tiên: ['Trà_Vinh', 'thì', 'cử', 'sáu', 'đồng_chí', ',', 'mang', 'bí_danh', 'là', 'Đoàn', ',', 'Kết', ',', 'Đấu', ',', 'Tranh', ',', 'Thắng', ',', 'Lợi', '.']\n",
      "POS đầu tiên: ['Np', 'C', 'V', 'M', 'N', 'CH', 'V', 'N', 'C', 'Np', 'CH', 'Np', 'CH', 'Np', 'CH', 'Np', 'CH', 'Np', 'CH', 'Np', 'CH']\n",
      "NER đầu tiên: ['B-LOC', 'O', 'O', 'O', 'O', 'O', 'O', 'O', 'O', 'B-PER', 'O', 'B-PER', 'O', 'B-PER', 'O', 'B-PER', 'O', 'B-PER', 'O', 'B-PER', 'O']\n"
     ]
    }
   ],
   "source": [
    "print(\"Số câu:\", len(sentences))\n",
    "print(\"Câu đầu tiên:\", sentences[0])\n",
    "print(\"POS đầu tiên:\", true_pos_labels[0])\n",
    "print(\"NER đầu tiên:\", true_ner_labels[0])"
   ]
  },
  {
   "cell_type": "code",
   "execution_count": 13,
   "id": "ee21f263",
   "metadata": {
    "execution": {
     "iopub.execute_input": "2025-07-07T21:33:14.668279Z",
     "iopub.status.busy": "2025-07-07T21:33:14.667532Z",
     "iopub.status.idle": "2025-07-07T21:33:14.676474Z",
     "shell.execute_reply": "2025-07-07T21:33:14.675830Z"
    },
    "papermill": {
     "duration": 0.019977,
     "end_time": "2025-07-07T21:33:14.677732",
     "exception": false,
     "start_time": "2025-07-07T21:33:14.657755",
     "status": "completed"
    },
    "tags": []
   },
   "outputs": [],
   "source": [
    "from sklearn.metrics import classification_report as sk_classification_report\n",
    "from sklearn.metrics import  precision_score as sk_precision_score, f1_score as sk_f1_score, recall_score as sk_recall_score\n",
    "def eval_seq(true_labels, pred_labels, task_name=\"ner\"):\n",
    "    print(f\"\\nĐÁNH GIÁ CHO TASK: {task_name.upper()}\")\n",
    "    print(f\"Precision: {precision_score(true_labels, pred_labels) * 100:.2f}\")\n",
    "    print(f\"Recall:    {recall_score(true_labels, pred_labels) * 100:.2f}\")\n",
    "    print(f\"F1-score:  {f1_score(true_labels, pred_labels) * 100:.2f}\")\n",
    "    print(\"\\nBáo cáo chi tiết (seqeval):\")\n",
    "    print(classification_report(true_labels, pred_labels)) \n",
    "    \n",
    "def eval_sk(true_labels, pred_labels, task_name=\"ner\"):\n",
    "    true_flat = [tag for sent in true_labels for tag in sent]\n",
    "    pred_flat = [tag for sent in pred_labels for tag in sent]\n",
    "    print(f\"\\nĐÁNH GIÁ CHO TASK: {task_name.upper()}\")\n",
    "    print(f\"Precision: {sk_precision_score(true_flat, pred_flat, average='macro') * 100:.2f}\")\n",
    "    print(f\"Recall:    {sk_recall_score(true_flat, pred_flat, average='macro') * 100:.2f}\")\n",
    "    print(f\"F1-score:  {sk_f1_score(true_flat, pred_flat, average='macro') * 100:.2f}\")\n",
    "    print(\"\\nBáo cáo chi tiết (với sklearn):\")    \n",
    "    print(sk_classification_report(true_flat, pred_flat))\n",
    "\n",
    "def export_errors_to_csv(sentences, true_labels, pred_labels, output_file=\"errors.csv\"):\n",
    "   \n",
    "    errors = []\n",
    "    for i, (words, gold, pred) in enumerate(zip(sentences, true_labels, pred_labels)):\n",
    "        for j, (w, g, p) in enumerate(zip(words, gold, pred)):\n",
    "            if g != p:\n",
    "                errors.append({\n",
    "                    \"sentence_id\": i,\n",
    "                    \"position\": j,\n",
    "                    \"word\": w,\n",
    "                    \"true_label\": g,\n",
    "                    \"predicted_label\": p,\n",
    "                })\n",
    "\n",
    "    df_errors = pd.DataFrame(errors)\n",
    "    df_errors.to_csv(output_file, index=False)\n",
    "    print(f\"Xuất {len(df_errors)} lỗi sai ra file: {output_file}\")\n",
    "    return df_errors"
   ]
  },
  {
   "cell_type": "markdown",
   "id": "f656c8f8",
   "metadata": {
    "papermill": {
     "duration": 0.008751,
     "end_time": "2025-07-07T21:33:14.695248",
     "exception": false,
     "start_time": "2025-07-07T21:33:14.686497",
     "status": "completed"
    },
    "tags": []
   },
   "source": [
    "# NER"
   ]
  },
  {
   "cell_type": "code",
   "execution_count": 14,
   "id": "a8f4f3f0",
   "metadata": {
    "execution": {
     "iopub.execute_input": "2025-07-07T21:33:14.714027Z",
     "iopub.status.busy": "2025-07-07T21:33:14.713718Z",
     "iopub.status.idle": "2025-07-07T21:33:14.719870Z",
     "shell.execute_reply": "2025-07-07T21:33:14.719209Z"
    },
    "papermill": {
     "duration": 0.01719,
     "end_time": "2025-07-07T21:33:14.721211",
     "exception": false,
     "start_time": "2025-07-07T21:33:14.704021",
     "status": "completed"
    },
    "tags": []
   },
   "outputs": [],
   "source": [
    "\n",
    "def predict_ner(sentences, tool = \"underthesea\"):\n",
    "    predicted_labels = []\n",
    "    if tool != \"underthesea\" and tool != \"VnCoreNLP\":\n",
    "        print('Tool không hợp lệ')\n",
    "        return\n",
    "    \n",
    "    for sent in tqdm(sentences): \n",
    "        labels = []     \n",
    "        tagged_dict ={}\n",
    "        if tool == \"underthesea\":\n",
    "            tagged = ner(' '.join(sent).replace(\"_\", \" \"))\n",
    "            tagged_dict = {item[0].replace(' ', '_'): item[3] for item in tagged}\n",
    "        elif tool == \"VnCoreNLP\":\n",
    "            tagged = annotator.ner(' '.join(sent).replace(\"_\", \" \"))\n",
    "            tagged_dict = {item[0]: item[1] for sen in tagged for item in sen}\n",
    "        for token in sent:\n",
    "            labels.append(tagged_dict.get(token, \"O\"))        \n",
    "        predicted_labels.append(labels)\n",
    "    \n",
    "    return predicted_labels\n"
   ]
  },
  {
   "cell_type": "markdown",
   "id": "a6577845",
   "metadata": {
    "papermill": {
     "duration": 0.008383,
     "end_time": "2025-07-07T21:33:14.738488",
     "exception": false,
     "start_time": "2025-07-07T21:33:14.730105",
     "status": "completed"
    },
    "tags": []
   },
   "source": [
    "## underthesea"
   ]
  },
  {
   "cell_type": "code",
   "execution_count": 15,
   "id": "604179b8",
   "metadata": {
    "execution": {
     "iopub.execute_input": "2025-07-07T21:33:14.820002Z",
     "iopub.status.busy": "2025-07-07T21:33:14.819267Z",
     "iopub.status.idle": "2025-07-07T21:33:47.686698Z",
     "shell.execute_reply": "2025-07-07T21:33:47.685947Z"
    },
    "papermill": {
     "duration": 32.940994,
     "end_time": "2025-07-07T21:33:47.688058",
     "exception": false,
     "start_time": "2025-07-07T21:33:14.747064",
     "status": "completed"
    },
    "tags": []
   },
   "outputs": [
    {
     "data": {
      "application/vnd.jupyter.widget-view+json": {
       "model_id": "96f3feb754424a85ba945cf01b7ed2ba",
       "version_major": 2,
       "version_minor": 0
      },
      "text/plain": [
       "  0%|          | 0/2530 [00:00<?, ?it/s]"
      ]
     },
     "metadata": {},
     "output_type": "display_data"
    }
   ],
   "source": [
    "pred_labels = predict_ner(sentences)"
   ]
  },
  {
   "cell_type": "code",
   "execution_count": 16,
   "id": "e7637bc4",
   "metadata": {
    "execution": {
     "iopub.execute_input": "2025-07-07T21:33:47.708278Z",
     "iopub.status.busy": "2025-07-07T21:33:47.707604Z",
     "iopub.status.idle": "2025-07-07T21:33:49.740173Z",
     "shell.execute_reply": "2025-07-07T21:33:49.739094Z"
    },
    "papermill": {
     "duration": 2.044049,
     "end_time": "2025-07-07T21:33:49.741564",
     "exception": false,
     "start_time": "2025-07-07T21:33:47.697515",
     "status": "completed"
    },
    "tags": []
   },
   "outputs": [
    {
     "name": "stdout",
     "output_type": "stream",
     "text": [
      "\n",
      "ĐÁNH GIÁ CHO TASK: NER VỚI UNDERTHESEA\n",
      "Precision: 54.09\n",
      "Recall:    53.36\n",
      "F1-score:  53.72\n",
      "\n",
      "Báo cáo chi tiết (seqeval):\n",
      "              precision    recall  f1-score   support\n",
      "\n",
      "         LOC       0.39      0.64      0.49       887\n",
      "        MISC       0.29      0.21      0.24        39\n",
      "         ORG       0.59      0.10      0.17       200\n",
      "         PER       0.89      0.53      0.67      1091\n",
      "\n",
      "   micro avg       0.54      0.53      0.54      2217\n",
      "   macro avg       0.54      0.37      0.39      2217\n",
      "weighted avg       0.65      0.53      0.54      2217\n",
      "\n",
      "\n",
      "ĐÁNH GIÁ CHO TASK: NER VỚI UNDERTHESEA\n",
      "Precision: 62.42\n",
      "Recall:    38.67\n",
      "F1-score:  38.31\n",
      "\n",
      "Báo cáo chi tiết (với sklearn):\n",
      "              precision    recall  f1-score   support\n",
      "\n",
      "       B-LOC       0.44      0.65      0.52       887\n",
      "      B-MISC       0.41      0.23      0.30        39\n",
      "       B-ORG       0.79      0.14      0.23       200\n",
      "       B-PER       0.90      0.54      0.68      1091\n",
      "       I-LOC       0.19      0.60      0.29       367\n",
      "      I-MISC       0.59      0.33      0.43        39\n",
      "       I-ORG       1.00      0.00      0.01       314\n",
      "       I-PER       0.31      0.01      0.02       485\n",
      "           O       0.97      0.98      0.98     52784\n",
      "\n",
      "    accuracy                           0.94     56206\n",
      "   macro avg       0.62      0.39      0.38     56206\n",
      "weighted avg       0.95      0.94      0.94     56206\n",
      "\n"
     ]
    }
   ],
   "source": [
    "eval_seq(true_ner_labels, pred_labels, \"NER với underthesea\")\n",
    "eval_sk(true_ner_labels, pred_labels, \"NER với underthesea\")"
   ]
  },
  {
   "cell_type": "code",
   "execution_count": 17,
   "id": "ce467b88",
   "metadata": {
    "execution": {
     "iopub.execute_input": "2025-07-07T21:33:49.762350Z",
     "iopub.status.busy": "2025-07-07T21:33:49.761557Z",
     "iopub.status.idle": "2025-07-07T21:33:49.806001Z",
     "shell.execute_reply": "2025-07-07T21:33:49.805263Z"
    },
    "papermill": {
     "duration": 0.055916,
     "end_time": "2025-07-07T21:33:49.807266",
     "exception": false,
     "start_time": "2025-07-07T21:33:49.751350",
     "status": "completed"
    },
    "tags": []
   },
   "outputs": [
    {
     "name": "stdout",
     "output_type": "stream",
     "text": [
      "Xuất 3110 lỗi sai ra file: errors_NER_underthesea.csv\n"
     ]
    },
    {
     "data": {
      "text/html": [
       "<div>\n",
       "<style scoped>\n",
       "    .dataframe tbody tr th:only-of-type {\n",
       "        vertical-align: middle;\n",
       "    }\n",
       "\n",
       "    .dataframe tbody tr th {\n",
       "        vertical-align: top;\n",
       "    }\n",
       "\n",
       "    .dataframe thead th {\n",
       "        text-align: right;\n",
       "    }\n",
       "</style>\n",
       "<table border=\"1\" class=\"dataframe\">\n",
       "  <thead>\n",
       "    <tr style=\"text-align: right;\">\n",
       "      <th></th>\n",
       "      <th>sentence_id</th>\n",
       "      <th>position</th>\n",
       "      <th>word</th>\n",
       "      <th>true_label</th>\n",
       "      <th>predicted_label</th>\n",
       "    </tr>\n",
       "  </thead>\n",
       "  <tbody>\n",
       "    <tr>\n",
       "      <th>0</th>\n",
       "      <td>0</td>\n",
       "      <td>11</td>\n",
       "      <td>Kết</td>\n",
       "      <td>B-PER</td>\n",
       "      <td>B-LOC</td>\n",
       "    </tr>\n",
       "    <tr>\n",
       "      <th>1</th>\n",
       "      <td>0</td>\n",
       "      <td>13</td>\n",
       "      <td>Đấu</td>\n",
       "      <td>B-PER</td>\n",
       "      <td>I-LOC</td>\n",
       "    </tr>\n",
       "    <tr>\n",
       "      <th>2</th>\n",
       "      <td>0</td>\n",
       "      <td>15</td>\n",
       "      <td>Tranh</td>\n",
       "      <td>B-PER</td>\n",
       "      <td>I-LOC</td>\n",
       "    </tr>\n",
       "    <tr>\n",
       "      <th>3</th>\n",
       "      <td>0</td>\n",
       "      <td>19</td>\n",
       "      <td>Lợi</td>\n",
       "      <td>B-PER</td>\n",
       "      <td>I-LOC</td>\n",
       "    </tr>\n",
       "    <tr>\n",
       "      <th>4</th>\n",
       "      <td>6</td>\n",
       "      <td>18</td>\n",
       "      <td>núi</td>\n",
       "      <td>O</td>\n",
       "      <td>B-LOC</td>\n",
       "    </tr>\n",
       "    <tr>\n",
       "      <th>...</th>\n",
       "      <td>...</td>\n",
       "      <td>...</td>\n",
       "      <td>...</td>\n",
       "      <td>...</td>\n",
       "      <td>...</td>\n",
       "    </tr>\n",
       "    <tr>\n",
       "      <th>3105</th>\n",
       "      <td>2517</td>\n",
       "      <td>12</td>\n",
       "      <td>Diệc</td>\n",
       "      <td>I-PER</td>\n",
       "      <td>O</td>\n",
       "    </tr>\n",
       "    <tr>\n",
       "      <th>3106</th>\n",
       "      <td>2517</td>\n",
       "      <td>13</td>\n",
       "      <td>Đình</td>\n",
       "      <td>I-PER</td>\n",
       "      <td>O</td>\n",
       "    </tr>\n",
       "    <tr>\n",
       "      <th>3107</th>\n",
       "      <td>2519</td>\n",
       "      <td>8</td>\n",
       "      <td>gia_đình</td>\n",
       "      <td>O</td>\n",
       "      <td>B-LOC</td>\n",
       "    </tr>\n",
       "    <tr>\n",
       "      <th>3108</th>\n",
       "      <td>2519</td>\n",
       "      <td>9</td>\n",
       "      <td>Đức</td>\n",
       "      <td>B-PER</td>\n",
       "      <td>I-LOC</td>\n",
       "    </tr>\n",
       "    <tr>\n",
       "      <th>3109</th>\n",
       "      <td>2519</td>\n",
       "      <td>29</td>\n",
       "      <td>xã</td>\n",
       "      <td>O</td>\n",
       "      <td>B-LOC</td>\n",
       "    </tr>\n",
       "  </tbody>\n",
       "</table>\n",
       "<p>3110 rows × 5 columns</p>\n",
       "</div>"
      ],
      "text/plain": [
       "      sentence_id  position      word true_label predicted_label\n",
       "0               0        11       Kết      B-PER           B-LOC\n",
       "1               0        13       Đấu      B-PER           I-LOC\n",
       "2               0        15     Tranh      B-PER           I-LOC\n",
       "3               0        19       Lợi      B-PER           I-LOC\n",
       "4               6        18       núi          O           B-LOC\n",
       "...           ...       ...       ...        ...             ...\n",
       "3105         2517        12      Diệc      I-PER               O\n",
       "3106         2517        13      Đình      I-PER               O\n",
       "3107         2519         8  gia_đình          O           B-LOC\n",
       "3108         2519         9       Đức      B-PER           I-LOC\n",
       "3109         2519        29        xã          O           B-LOC\n",
       "\n",
       "[3110 rows x 5 columns]"
      ]
     },
     "execution_count": 17,
     "metadata": {},
     "output_type": "execute_result"
    }
   ],
   "source": [
    "export_errors_to_csv(sentences, true_ner_labels, pred_labels, output_file=\"errors_NER_underthesea.csv\")"
   ]
  },
  {
   "cell_type": "markdown",
   "id": "1dbedb5e",
   "metadata": {
    "papermill": {
     "duration": 0.009244,
     "end_time": "2025-07-07T21:33:49.826305",
     "exception": false,
     "start_time": "2025-07-07T21:33:49.817061",
     "status": "completed"
    },
    "tags": []
   },
   "source": [
    "## VnCoreNLP"
   ]
  },
  {
   "cell_type": "code",
   "execution_count": 18,
   "id": "3feac5e7",
   "metadata": {
    "execution": {
     "iopub.execute_input": "2025-07-07T21:33:49.846876Z",
     "iopub.status.busy": "2025-07-07T21:33:49.846120Z",
     "iopub.status.idle": "2025-07-07T21:34:05.326588Z",
     "shell.execute_reply": "2025-07-07T21:34:05.325918Z"
    },
    "papermill": {
     "duration": 15.492064,
     "end_time": "2025-07-07T21:34:05.327846",
     "exception": false,
     "start_time": "2025-07-07T21:33:49.835782",
     "status": "completed"
    },
    "tags": []
   },
   "outputs": [
    {
     "data": {
      "application/vnd.jupyter.widget-view+json": {
       "model_id": "2bb2f6fc034d4af8a425f290fbe22607",
       "version_major": 2,
       "version_minor": 0
      },
      "text/plain": [
       "  0%|          | 0/2530 [00:00<?, ?it/s]"
      ]
     },
     "metadata": {},
     "output_type": "display_data"
    }
   ],
   "source": [
    "\n",
    "pred_labels = predict_ner(sentences, tool = \"VnCoreNLP\")\n"
   ]
  },
  {
   "cell_type": "code",
   "execution_count": 19,
   "id": "368e4d3b",
   "metadata": {
    "execution": {
     "iopub.execute_input": "2025-07-07T21:34:05.348931Z",
     "iopub.status.busy": "2025-07-07T21:34:05.348343Z",
     "iopub.status.idle": "2025-07-07T21:34:07.389671Z",
     "shell.execute_reply": "2025-07-07T21:34:07.388670Z"
    },
    "papermill": {
     "duration": 2.053417,
     "end_time": "2025-07-07T21:34:07.391317",
     "exception": false,
     "start_time": "2025-07-07T21:34:05.337900",
     "status": "completed"
    },
    "tags": []
   },
   "outputs": [
    {
     "name": "stdout",
     "output_type": "stream",
     "text": [
      "\n",
      "ĐÁNH GIÁ CHO TASK: NER VỚI VNCORENLP\n",
      "Precision: 90.24\n",
      "Recall:    73.43\n",
      "F1-score:  80.97\n",
      "\n",
      "Báo cáo chi tiết (seqeval):\n",
      "              precision    recall  f1-score   support\n",
      "\n",
      "         LOC       0.90      0.84      0.87       887\n",
      "        MISC       0.61      0.79      0.69        39\n",
      "         ORG       0.72      0.65      0.68       200\n",
      "         PER       0.96      0.66      0.79      1091\n",
      "\n",
      "   micro avg       0.90      0.73      0.81      2217\n",
      "   macro avg       0.80      0.74      0.76      2217\n",
      "weighted avg       0.91      0.73      0.81      2217\n",
      "\n",
      "\n",
      "ĐÁNH GIÁ CHO TASK: NER VỚI VNCORENLP\n",
      "Precision: 91.03\n",
      "Recall:    71.50\n",
      "F1-score:  75.52\n",
      "\n",
      "Báo cáo chi tiết (với sklearn):\n",
      "              precision    recall  f1-score   support\n",
      "\n",
      "       B-LOC       0.95      0.87      0.91       887\n",
      "      B-MISC       0.74      0.82      0.78        39\n",
      "       B-ORG       0.94      0.75      0.84       200\n",
      "       B-PER       0.98      0.67      0.80      1091\n",
      "       I-LOC       0.96      0.62      0.75       367\n",
      "      I-MISC       0.82      0.95      0.88        39\n",
      "       I-ORG       0.92      0.74      0.82       314\n",
      "       I-PER       0.90      0.02      0.04       485\n",
      "           O       0.98      1.00      0.99     52784\n",
      "\n",
      "    accuracy                           0.98     56206\n",
      "   macro avg       0.91      0.71      0.76     56206\n",
      "weighted avg       0.98      0.98      0.97     56206\n",
      "\n"
     ]
    }
   ],
   "source": [
    "eval_seq(true_ner_labels, pred_labels, \"NER với VNCoreNLP\")\n",
    "eval_sk(true_ner_labels, pred_labels, \"NER với VNCoreNLP\")\n"
   ]
  },
  {
   "cell_type": "code",
   "execution_count": 20,
   "id": "0a8ff82a",
   "metadata": {
    "execution": {
     "iopub.execute_input": "2025-07-07T21:34:07.413203Z",
     "iopub.status.busy": "2025-07-07T21:34:07.412890Z",
     "iopub.status.idle": "2025-07-07T21:34:07.439063Z",
     "shell.execute_reply": "2025-07-07T21:34:07.438353Z"
    },
    "papermill": {
     "duration": 0.038501,
     "end_time": "2025-07-07T21:34:07.440289",
     "exception": false,
     "start_time": "2025-07-07T21:34:07.401788",
     "status": "completed"
    },
    "tags": []
   },
   "outputs": [
    {
     "name": "stdout",
     "output_type": "stream",
     "text": [
      "Xuất 1271 lỗi sai ra file: errors_NER_VNCoreNLP.csv\n"
     ]
    },
    {
     "data": {
      "text/html": [
       "<div>\n",
       "<style scoped>\n",
       "    .dataframe tbody tr th:only-of-type {\n",
       "        vertical-align: middle;\n",
       "    }\n",
       "\n",
       "    .dataframe tbody tr th {\n",
       "        vertical-align: top;\n",
       "    }\n",
       "\n",
       "    .dataframe thead th {\n",
       "        text-align: right;\n",
       "    }\n",
       "</style>\n",
       "<table border=\"1\" class=\"dataframe\">\n",
       "  <thead>\n",
       "    <tr style=\"text-align: right;\">\n",
       "      <th></th>\n",
       "      <th>sentence_id</th>\n",
       "      <th>position</th>\n",
       "      <th>word</th>\n",
       "      <th>true_label</th>\n",
       "      <th>predicted_label</th>\n",
       "    </tr>\n",
       "  </thead>\n",
       "  <tbody>\n",
       "    <tr>\n",
       "      <th>0</th>\n",
       "      <td>0</td>\n",
       "      <td>15</td>\n",
       "      <td>Tranh</td>\n",
       "      <td>B-PER</td>\n",
       "      <td>O</td>\n",
       "    </tr>\n",
       "    <tr>\n",
       "      <th>1</th>\n",
       "      <td>9</td>\n",
       "      <td>30</td>\n",
       "      <td>Việt</td>\n",
       "      <td>B-LOC</td>\n",
       "      <td>O</td>\n",
       "    </tr>\n",
       "    <tr>\n",
       "      <th>2</th>\n",
       "      <td>23</td>\n",
       "      <td>23</td>\n",
       "      <td>Bạch</td>\n",
       "      <td>B-PER</td>\n",
       "      <td>O</td>\n",
       "    </tr>\n",
       "    <tr>\n",
       "      <th>3</th>\n",
       "      <td>23</td>\n",
       "      <td>24</td>\n",
       "      <td>Tuyết</td>\n",
       "      <td>I-PER</td>\n",
       "      <td>O</td>\n",
       "    </tr>\n",
       "    <tr>\n",
       "      <th>4</th>\n",
       "      <td>38</td>\n",
       "      <td>1</td>\n",
       "      <td>Bùi</td>\n",
       "      <td>B-PER</td>\n",
       "      <td>O</td>\n",
       "    </tr>\n",
       "    <tr>\n",
       "      <th>...</th>\n",
       "      <td>...</td>\n",
       "      <td>...</td>\n",
       "      <td>...</td>\n",
       "      <td>...</td>\n",
       "      <td>...</td>\n",
       "    </tr>\n",
       "    <tr>\n",
       "      <th>1266</th>\n",
       "      <td>2517</td>\n",
       "      <td>11</td>\n",
       "      <td>Lưu</td>\n",
       "      <td>B-PER</td>\n",
       "      <td>O</td>\n",
       "    </tr>\n",
       "    <tr>\n",
       "      <th>1267</th>\n",
       "      <td>2517</td>\n",
       "      <td>12</td>\n",
       "      <td>Diệc</td>\n",
       "      <td>I-PER</td>\n",
       "      <td>O</td>\n",
       "    </tr>\n",
       "    <tr>\n",
       "      <th>1268</th>\n",
       "      <td>2517</td>\n",
       "      <td>13</td>\n",
       "      <td>Đình</td>\n",
       "      <td>I-PER</td>\n",
       "      <td>O</td>\n",
       "    </tr>\n",
       "    <tr>\n",
       "      <th>1269</th>\n",
       "      <td>2519</td>\n",
       "      <td>4</td>\n",
       "      <td>xã</td>\n",
       "      <td>B-LOC</td>\n",
       "      <td>O</td>\n",
       "    </tr>\n",
       "    <tr>\n",
       "      <th>1270</th>\n",
       "      <td>2519</td>\n",
       "      <td>9</td>\n",
       "      <td>Đức</td>\n",
       "      <td>B-PER</td>\n",
       "      <td>B-LOC</td>\n",
       "    </tr>\n",
       "  </tbody>\n",
       "</table>\n",
       "<p>1271 rows × 5 columns</p>\n",
       "</div>"
      ],
      "text/plain": [
       "      sentence_id  position   word true_label predicted_label\n",
       "0               0        15  Tranh      B-PER               O\n",
       "1               9        30   Việt      B-LOC               O\n",
       "2              23        23   Bạch      B-PER               O\n",
       "3              23        24  Tuyết      I-PER               O\n",
       "4              38         1    Bùi      B-PER               O\n",
       "...           ...       ...    ...        ...             ...\n",
       "1266         2517        11    Lưu      B-PER               O\n",
       "1267         2517        12   Diệc      I-PER               O\n",
       "1268         2517        13   Đình      I-PER               O\n",
       "1269         2519         4     xã      B-LOC               O\n",
       "1270         2519         9    Đức      B-PER           B-LOC\n",
       "\n",
       "[1271 rows x 5 columns]"
      ]
     },
     "execution_count": 20,
     "metadata": {},
     "output_type": "execute_result"
    }
   ],
   "source": [
    "export_errors_to_csv(sentences, true_ner_labels, pred_labels, output_file=\"errors_NER_VNCoreNLP.csv\")"
   ]
  },
  {
   "cell_type": "markdown",
   "id": "76f6c199",
   "metadata": {
    "papermill": {
     "duration": 0.009998,
     "end_time": "2025-07-07T21:34:07.460975",
     "exception": false,
     "start_time": "2025-07-07T21:34:07.450977",
     "status": "completed"
    },
    "tags": []
   },
   "source": [
    "# POS tagging"
   ]
  },
  {
   "cell_type": "code",
   "execution_count": 21,
   "id": "7e411cdf",
   "metadata": {
    "execution": {
     "iopub.execute_input": "2025-07-07T21:34:07.484054Z",
     "iopub.status.busy": "2025-07-07T21:34:07.483133Z",
     "iopub.status.idle": "2025-07-07T21:34:07.489924Z",
     "shell.execute_reply": "2025-07-07T21:34:07.489266Z"
    },
    "papermill": {
     "duration": 0.019623,
     "end_time": "2025-07-07T21:34:07.491109",
     "exception": false,
     "start_time": "2025-07-07T21:34:07.471486",
     "status": "completed"
    },
    "tags": []
   },
   "outputs": [],
   "source": [
    "def predict_pos(sentences, tool = \"underthesea\"):\n",
    "    predicted_labels = []\n",
    "    if tool != \"underthesea\" and tool != \"VnCoreNLP\":\n",
    "        print('Tool không hợp lệ')\n",
    "        return None\n",
    "    sentences = [[word.replace(\"_\", \" \") for word in sent] for sent in sentences]    \n",
    "    for sent in tqdm(sentences):\n",
    "        labels = []     \n",
    "        tagged_dict ={}\n",
    "        if tool == \"underthesea\":\n",
    "            tagged = pos_tag(' '.join(sent))\n",
    "            tagged_dict = {item[0]: item[1] for item in tagged}\n",
    "        elif tool == \"VnCoreNLP\":\n",
    "            tagged = annotator.pos_tag(' '.join(sent))\n",
    "            tagged_dict = {item[0].replace('_', ' '): item[1] for sen in tagged for item in sen}\n",
    "        for token in sent:\n",
    "            labels.append(tagged_dict.get(token, \"O\"))        \n",
    "        predicted_labels.append(labels)\n",
    "    \n",
    "    return predicted_labels"
   ]
  },
  {
   "cell_type": "markdown",
   "id": "c111dc16",
   "metadata": {
    "papermill": {
     "duration": 0.010079,
     "end_time": "2025-07-07T21:34:07.511364",
     "exception": false,
     "start_time": "2025-07-07T21:34:07.501285",
     "status": "completed"
    },
    "tags": []
   },
   "source": [
    "## POS tagging - underthesea"
   ]
  },
  {
   "cell_type": "code",
   "execution_count": 22,
   "id": "d0a0b1e8",
   "metadata": {
    "execution": {
     "iopub.execute_input": "2025-07-07T21:34:07.533237Z",
     "iopub.status.busy": "2025-07-07T21:34:07.532532Z",
     "iopub.status.idle": "2025-07-07T21:34:17.964747Z",
     "shell.execute_reply": "2025-07-07T21:34:17.964032Z"
    },
    "papermill": {
     "duration": 10.444407,
     "end_time": "2025-07-07T21:34:17.965968",
     "exception": false,
     "start_time": "2025-07-07T21:34:07.521561",
     "status": "completed"
    },
    "tags": []
   },
   "outputs": [
    {
     "data": {
      "application/vnd.jupyter.widget-view+json": {
       "model_id": "66260d1bfa664086a383989fdbb8aa26",
       "version_major": 2,
       "version_minor": 0
      },
      "text/plain": [
       "  0%|          | 0/2530 [00:00<?, ?it/s]"
      ]
     },
     "metadata": {},
     "output_type": "display_data"
    }
   ],
   "source": [
    "pred_labels = predict_pos(sentences)"
   ]
  },
  {
   "cell_type": "code",
   "execution_count": 23,
   "id": "2e61465e",
   "metadata": {
    "execution": {
     "iopub.execute_input": "2025-07-07T21:34:17.988491Z",
     "iopub.status.busy": "2025-07-07T21:34:17.988215Z",
     "iopub.status.idle": "2025-07-07T21:34:19.239612Z",
     "shell.execute_reply": "2025-07-07T21:34:19.238390Z"
    },
    "papermill": {
     "duration": 1.264444,
     "end_time": "2025-07-07T21:34:19.241010",
     "exception": false,
     "start_time": "2025-07-07T21:34:17.976566",
     "status": "completed"
    },
    "tags": []
   },
   "outputs": [
    {
     "name": "stdout",
     "output_type": "stream",
     "text": [
      "\n",
      "ĐÁNH GIÁ CHO TASK: POS TAGGING VỚI UNDERTHESEA\n"
     ]
    },
    {
     "name": "stderr",
     "output_type": "stream",
     "text": [
      "/usr/local/lib/python3.11/dist-packages/sklearn/metrics/_classification.py:1344: UndefinedMetricWarning: Precision is ill-defined and being set to 0.0 in labels with no predicted samples. Use `zero_division` parameter to control this behavior.\n",
      "  _warn_prf(average, modifier, msg_start, len(result))\n"
     ]
    },
    {
     "name": "stdout",
     "output_type": "stream",
     "text": [
      "Precision: 53.68\n"
     ]
    },
    {
     "name": "stderr",
     "output_type": "stream",
     "text": [
      "/usr/local/lib/python3.11/dist-packages/sklearn/metrics/_classification.py:1344: UndefinedMetricWarning: Recall is ill-defined and being set to 0.0 in labels with no true samples. Use `zero_division` parameter to control this behavior.\n",
      "  _warn_prf(average, modifier, msg_start, len(result))\n"
     ]
    },
    {
     "name": "stdout",
     "output_type": "stream",
     "text": [
      "Recall:    51.69\n",
      "F1-score:  51.61\n",
      "\n",
      "Báo cáo chi tiết (với sklearn):\n"
     ]
    },
    {
     "name": "stderr",
     "output_type": "stream",
     "text": [
      "/usr/local/lib/python3.11/dist-packages/sklearn/metrics/_classification.py:1344: UndefinedMetricWarning: Precision and F-score are ill-defined and being set to 0.0 in labels with no predicted samples. Use `zero_division` parameter to control this behavior.\n",
      "  _warn_prf(average, modifier, msg_start, len(result))\n",
      "/usr/local/lib/python3.11/dist-packages/sklearn/metrics/_classification.py:1344: UndefinedMetricWarning: Recall and F-score are ill-defined and being set to 0.0 in labels with no true samples. Use `zero_division` parameter to control this behavior.\n",
      "  _warn_prf(average, modifier, msg_start, len(result))\n"
     ]
    },
    {
     "name": "stdout",
     "output_type": "stream",
     "text": [
      "              precision    recall  f1-score   support\n",
      "\n",
      "           A       0.94      0.79      0.86      3260\n",
      "          Ab       0.00      0.00      0.00         2\n",
      "           C       0.65      0.90      0.76      1523\n",
      "          CH       1.00      1.00      1.00      7825\n",
      "          Cc       0.00      0.00      0.00       644\n",
      "           E       0.94      0.96      0.95      3474\n",
      "          FW       0.05      0.09      0.07        35\n",
      "           I       0.87      0.72      0.79        36\n",
      "        I-NP       0.00      0.00      0.00         1\n",
      "           L       0.99      0.97      0.98      1049\n",
      "           M       0.98      0.94      0.96      1940\n",
      "           N       0.95      0.88      0.92     13088\n",
      "         NPP       0.00      0.00      0.00         2\n",
      "          Nb       0.00      0.00      0.00        74\n",
      "          Nc       0.21      0.77      0.33       477\n",
      "          Ne       0.00      0.00      0.00        81\n",
      "          Ni       0.00      0.00      0.00         5\n",
      "          Np       0.95      0.58      0.72      2763\n",
      "          Ns       0.00      0.00      0.00      1231\n",
      "          Nu       0.95      0.89      0.92       263\n",
      "          Ny       0.91      0.81      0.86       235\n",
      "           O       0.00      0.00      0.00         0\n",
      "           P       0.96      0.92      0.94      2462\n",
      "           R       0.94      0.91      0.93      3806\n",
      "           T       0.60      0.76      0.67       338\n",
      "           V       0.93      0.90      0.91     11361\n",
      "          Vb       0.00      0.00      0.00         4\n",
      "           X       0.86      0.71      0.78       213\n",
      "           Z       0.88      0.50      0.64        14\n",
      "\n",
      "    accuracy                           0.86     56206\n",
      "   macro avg       0.54      0.52      0.52     56206\n",
      "weighted avg       0.90      0.86      0.87     56206\n",
      "\n"
     ]
    },
    {
     "name": "stderr",
     "output_type": "stream",
     "text": [
      "/usr/local/lib/python3.11/dist-packages/sklearn/metrics/_classification.py:1344: UndefinedMetricWarning: Precision and F-score are ill-defined and being set to 0.0 in labels with no predicted samples. Use `zero_division` parameter to control this behavior.\n",
      "  _warn_prf(average, modifier, msg_start, len(result))\n",
      "/usr/local/lib/python3.11/dist-packages/sklearn/metrics/_classification.py:1344: UndefinedMetricWarning: Recall and F-score are ill-defined and being set to 0.0 in labels with no true samples. Use `zero_division` parameter to control this behavior.\n",
      "  _warn_prf(average, modifier, msg_start, len(result))\n",
      "/usr/local/lib/python3.11/dist-packages/sklearn/metrics/_classification.py:1344: UndefinedMetricWarning: Precision and F-score are ill-defined and being set to 0.0 in labels with no predicted samples. Use `zero_division` parameter to control this behavior.\n",
      "  _warn_prf(average, modifier, msg_start, len(result))\n",
      "/usr/local/lib/python3.11/dist-packages/sklearn/metrics/_classification.py:1344: UndefinedMetricWarning: Recall and F-score are ill-defined and being set to 0.0 in labels with no true samples. Use `zero_division` parameter to control this behavior.\n",
      "  _warn_prf(average, modifier, msg_start, len(result))\n"
     ]
    }
   ],
   "source": [
    "eval_sk(true_pos_labels, pred_labels, \"POS tagging với underthesea\")"
   ]
  },
  {
   "cell_type": "code",
   "execution_count": 24,
   "id": "2bc07a7d",
   "metadata": {
    "execution": {
     "iopub.execute_input": "2025-07-07T21:34:19.264536Z",
     "iopub.status.busy": "2025-07-07T21:34:19.263780Z",
     "iopub.status.idle": "2025-07-07T21:34:19.314903Z",
     "shell.execute_reply": "2025-07-07T21:34:19.314106Z"
    },
    "papermill": {
     "duration": 0.064065,
     "end_time": "2025-07-07T21:34:19.316175",
     "exception": false,
     "start_time": "2025-07-07T21:34:19.252110",
     "status": "completed"
    },
    "tags": []
   },
   "outputs": [
    {
     "name": "stdout",
     "output_type": "stream",
     "text": [
      "Xuất 7979 lỗi sai ra file: errors_POS_underthesea.csv\n"
     ]
    },
    {
     "data": {
      "text/html": [
       "<div>\n",
       "<style scoped>\n",
       "    .dataframe tbody tr th:only-of-type {\n",
       "        vertical-align: middle;\n",
       "    }\n",
       "\n",
       "    .dataframe tbody tr th {\n",
       "        vertical-align: top;\n",
       "    }\n",
       "\n",
       "    .dataframe thead th {\n",
       "        text-align: right;\n",
       "    }\n",
       "</style>\n",
       "<table border=\"1\" class=\"dataframe\">\n",
       "  <thead>\n",
       "    <tr style=\"text-align: right;\">\n",
       "      <th></th>\n",
       "      <th>sentence_id</th>\n",
       "      <th>position</th>\n",
       "      <th>word</th>\n",
       "      <th>true_label</th>\n",
       "      <th>predicted_label</th>\n",
       "    </tr>\n",
       "  </thead>\n",
       "  <tbody>\n",
       "    <tr>\n",
       "      <th>0</th>\n",
       "      <td>0</td>\n",
       "      <td>8</td>\n",
       "      <td>là</td>\n",
       "      <td>C</td>\n",
       "      <td>V</td>\n",
       "    </tr>\n",
       "    <tr>\n",
       "      <th>1</th>\n",
       "      <td>1</td>\n",
       "      <td>1</td>\n",
       "      <td>tỉnh_uỷ</td>\n",
       "      <td>N</td>\n",
       "      <td>O</td>\n",
       "    </tr>\n",
       "    <tr>\n",
       "      <th>2</th>\n",
       "      <td>2</td>\n",
       "      <td>11</td>\n",
       "      <td>anh</td>\n",
       "      <td>Ns</td>\n",
       "      <td>Nc</td>\n",
       "    </tr>\n",
       "    <tr>\n",
       "      <th>3</th>\n",
       "      <td>2</td>\n",
       "      <td>22</td>\n",
       "      <td>anh</td>\n",
       "      <td>Ns</td>\n",
       "      <td>Nc</td>\n",
       "    </tr>\n",
       "    <tr>\n",
       "      <th>4</th>\n",
       "      <td>3</td>\n",
       "      <td>17</td>\n",
       "      <td>thêm</td>\n",
       "      <td>A</td>\n",
       "      <td>R</td>\n",
       "    </tr>\n",
       "    <tr>\n",
       "      <th>...</th>\n",
       "      <td>...</td>\n",
       "      <td>...</td>\n",
       "      <td>...</td>\n",
       "      <td>...</td>\n",
       "      <td>...</td>\n",
       "    </tr>\n",
       "    <tr>\n",
       "      <th>7974</th>\n",
       "      <td>2526</td>\n",
       "      <td>5</td>\n",
       "      <td>và</td>\n",
       "      <td>Cc</td>\n",
       "      <td>C</td>\n",
       "    </tr>\n",
       "    <tr>\n",
       "      <th>7975</th>\n",
       "      <td>2526</td>\n",
       "      <td>12</td>\n",
       "      <td>tuyệt_đối</td>\n",
       "      <td>V</td>\n",
       "      <td>A</td>\n",
       "    </tr>\n",
       "    <tr>\n",
       "      <th>7976</th>\n",
       "      <td>2527</td>\n",
       "      <td>10</td>\n",
       "      <td>người_ta</td>\n",
       "      <td>P</td>\n",
       "      <td>O</td>\n",
       "    </tr>\n",
       "    <tr>\n",
       "      <th>7977</th>\n",
       "      <td>2529</td>\n",
       "      <td>3</td>\n",
       "      <td>và</td>\n",
       "      <td>Cc</td>\n",
       "      <td>C</td>\n",
       "    </tr>\n",
       "    <tr>\n",
       "      <th>7978</th>\n",
       "      <td>2529</td>\n",
       "      <td>4</td>\n",
       "      <td>cặp_bồ</td>\n",
       "      <td>V</td>\n",
       "      <td>O</td>\n",
       "    </tr>\n",
       "  </tbody>\n",
       "</table>\n",
       "<p>7979 rows × 5 columns</p>\n",
       "</div>"
      ],
      "text/plain": [
       "      sentence_id  position       word true_label predicted_label\n",
       "0               0         8         là          C               V\n",
       "1               1         1    tỉnh_uỷ          N               O\n",
       "2               2        11        anh         Ns              Nc\n",
       "3               2        22        anh         Ns              Nc\n",
       "4               3        17       thêm          A               R\n",
       "...           ...       ...        ...        ...             ...\n",
       "7974         2526         5         và         Cc               C\n",
       "7975         2526        12  tuyệt_đối          V               A\n",
       "7976         2527        10   người_ta          P               O\n",
       "7977         2529         3         và         Cc               C\n",
       "7978         2529         4     cặp_bồ          V               O\n",
       "\n",
       "[7979 rows x 5 columns]"
      ]
     },
     "execution_count": 24,
     "metadata": {},
     "output_type": "execute_result"
    }
   ],
   "source": [
    "export_errors_to_csv(sentences, true_pos_labels, pred_labels, output_file=\"errors_POS_underthesea.csv\")"
   ]
  },
  {
   "cell_type": "markdown",
   "id": "cb149a09",
   "metadata": {
    "papermill": {
     "duration": 0.010754,
     "end_time": "2025-07-07T21:34:19.338331",
     "exception": false,
     "start_time": "2025-07-07T21:34:19.327577",
     "status": "completed"
    },
    "tags": []
   },
   "source": [
    "## POS tagging - VnCoreNLP"
   ]
  },
  {
   "cell_type": "code",
   "execution_count": 25,
   "id": "bb2b4ca5",
   "metadata": {
    "execution": {
     "iopub.execute_input": "2025-07-07T21:34:19.363744Z",
     "iopub.status.busy": "2025-07-07T21:34:19.363421Z",
     "iopub.status.idle": "2025-07-07T21:34:28.034979Z",
     "shell.execute_reply": "2025-07-07T21:34:28.034132Z"
    },
    "papermill": {
     "duration": 8.687068,
     "end_time": "2025-07-07T21:34:28.036288",
     "exception": false,
     "start_time": "2025-07-07T21:34:19.349220",
     "status": "completed"
    },
    "tags": []
   },
   "outputs": [
    {
     "data": {
      "application/vnd.jupyter.widget-view+json": {
       "model_id": "d2fcc549495a4b11894128184c93dcf3",
       "version_major": 2,
       "version_minor": 0
      },
      "text/plain": [
       "  0%|          | 0/2530 [00:00<?, ?it/s]"
      ]
     },
     "metadata": {},
     "output_type": "display_data"
    }
   ],
   "source": [
    "pred_labels = predict_pos(sentences, tool = \"VnCoreNLP\")"
   ]
  },
  {
   "cell_type": "code",
   "execution_count": 26,
   "id": "4ab7fcd9",
   "metadata": {
    "execution": {
     "iopub.execute_input": "2025-07-07T21:34:28.060959Z",
     "iopub.status.busy": "2025-07-07T21:34:28.060153Z",
     "iopub.status.idle": "2025-07-07T21:34:29.346225Z",
     "shell.execute_reply": "2025-07-07T21:34:29.345083Z"
    },
    "papermill": {
     "duration": 1.299715,
     "end_time": "2025-07-07T21:34:29.347577",
     "exception": false,
     "start_time": "2025-07-07T21:34:28.047862",
     "status": "completed"
    },
    "tags": []
   },
   "outputs": [
    {
     "name": "stdout",
     "output_type": "stream",
     "text": [
      "\n",
      "ĐÁNH GIÁ CHO TASK: POS TAGGING VỚI VNCORENLP\n"
     ]
    },
    {
     "name": "stderr",
     "output_type": "stream",
     "text": [
      "/usr/local/lib/python3.11/dist-packages/sklearn/metrics/_classification.py:1344: UndefinedMetricWarning: Precision is ill-defined and being set to 0.0 in labels with no predicted samples. Use `zero_division` parameter to control this behavior.\n",
      "  _warn_prf(average, modifier, msg_start, len(result))\n"
     ]
    },
    {
     "name": "stdout",
     "output_type": "stream",
     "text": [
      "Precision: 60.50\n"
     ]
    },
    {
     "name": "stderr",
     "output_type": "stream",
     "text": [
      "/usr/local/lib/python3.11/dist-packages/sklearn/metrics/_classification.py:1344: UndefinedMetricWarning: Recall is ill-defined and being set to 0.0 in labels with no true samples. Use `zero_division` parameter to control this behavior.\n",
      "  _warn_prf(average, modifier, msg_start, len(result))\n"
     ]
    },
    {
     "name": "stdout",
     "output_type": "stream",
     "text": [
      "Recall:    60.60\n",
      "F1-score:  59.34\n",
      "\n",
      "Báo cáo chi tiết (với sklearn):\n"
     ]
    },
    {
     "name": "stderr",
     "output_type": "stream",
     "text": [
      "/usr/local/lib/python3.11/dist-packages/sklearn/metrics/_classification.py:1344: UndefinedMetricWarning: Precision and F-score are ill-defined and being set to 0.0 in labels with no predicted samples. Use `zero_division` parameter to control this behavior.\n",
      "  _warn_prf(average, modifier, msg_start, len(result))\n",
      "/usr/local/lib/python3.11/dist-packages/sklearn/metrics/_classification.py:1344: UndefinedMetricWarning: Recall and F-score are ill-defined and being set to 0.0 in labels with no true samples. Use `zero_division` parameter to control this behavior.\n",
      "  _warn_prf(average, modifier, msg_start, len(result))\n"
     ]
    },
    {
     "name": "stdout",
     "output_type": "stream",
     "text": [
      "              precision    recall  f1-score   support\n",
      "\n",
      "           A       0.93      0.92      0.93      3260\n",
      "          Ab       1.00      0.50      0.67         2\n",
      "           C       0.92      0.92      0.92      1523\n",
      "          CH       1.00      0.98      0.99      7825\n",
      "          Cc       1.00      0.93      0.96       644\n",
      "           E       0.91      0.95      0.93      3474\n",
      "          Eb       0.00      0.00      0.00         0\n",
      "          FW       0.00      0.00      0.00        35\n",
      "           I       0.87      0.72      0.79        36\n",
      "        I-NP       0.00      0.00      0.00         1\n",
      "           L       0.99      0.95      0.97      1049\n",
      "           M       0.94      0.98      0.96      1940\n",
      "           N       0.92      0.91      0.92     13088\n",
      "         NPP       0.00      0.00      0.00         2\n",
      "          Nb       0.87      0.72      0.79        74\n",
      "          Nc       0.32      0.90      0.47       477\n",
      "          Ne       0.00      0.00      0.00        81\n",
      "          Ni       0.00      0.00      0.00         5\n",
      "          Np       0.93      0.60      0.73      2763\n",
      "          Ns       0.00      0.00      0.00      1231\n",
      "          Nu       0.94      0.96      0.95       263\n",
      "          Ny       0.58      0.97      0.72       235\n",
      "           O       0.00      0.00      0.00         0\n",
      "           P       0.96      0.94      0.95      2462\n",
      "           R       0.86      0.93      0.90      3806\n",
      "           T       0.71      0.69      0.70       338\n",
      "           V       0.97      0.92      0.94     11361\n",
      "          Vb       0.67      1.00      0.80         4\n",
      "           X       0.93      0.76      0.83       213\n",
      "           Y       0.00      0.00      0.00         0\n",
      "           Z       0.53      0.64      0.58        14\n",
      "\n",
      "    accuracy                           0.89     56206\n",
      "   macro avg       0.61      0.61      0.59     56206\n",
      "weighted avg       0.91      0.89      0.90     56206\n",
      "\n"
     ]
    },
    {
     "name": "stderr",
     "output_type": "stream",
     "text": [
      "/usr/local/lib/python3.11/dist-packages/sklearn/metrics/_classification.py:1344: UndefinedMetricWarning: Precision and F-score are ill-defined and being set to 0.0 in labels with no predicted samples. Use `zero_division` parameter to control this behavior.\n",
      "  _warn_prf(average, modifier, msg_start, len(result))\n",
      "/usr/local/lib/python3.11/dist-packages/sklearn/metrics/_classification.py:1344: UndefinedMetricWarning: Recall and F-score are ill-defined and being set to 0.0 in labels with no true samples. Use `zero_division` parameter to control this behavior.\n",
      "  _warn_prf(average, modifier, msg_start, len(result))\n",
      "/usr/local/lib/python3.11/dist-packages/sklearn/metrics/_classification.py:1344: UndefinedMetricWarning: Precision and F-score are ill-defined and being set to 0.0 in labels with no predicted samples. Use `zero_division` parameter to control this behavior.\n",
      "  _warn_prf(average, modifier, msg_start, len(result))\n",
      "/usr/local/lib/python3.11/dist-packages/sklearn/metrics/_classification.py:1344: UndefinedMetricWarning: Recall and F-score are ill-defined and being set to 0.0 in labels with no true samples. Use `zero_division` parameter to control this behavior.\n",
      "  _warn_prf(average, modifier, msg_start, len(result))\n"
     ]
    }
   ],
   "source": [
    "eval_sk(true_pos_labels, pred_labels, \"POS tagging với VnCoreNLP\")"
   ]
  },
  {
   "cell_type": "code",
   "execution_count": 27,
   "id": "1ff6421b",
   "metadata": {
    "execution": {
     "iopub.execute_input": "2025-07-07T21:34:29.372232Z",
     "iopub.status.busy": "2025-07-07T21:34:29.371955Z",
     "iopub.status.idle": "2025-07-07T21:34:29.414323Z",
     "shell.execute_reply": "2025-07-07T21:34:29.413672Z"
    },
    "papermill": {
     "duration": 0.055993,
     "end_time": "2025-07-07T21:34:29.415532",
     "exception": false,
     "start_time": "2025-07-07T21:34:29.359539",
     "status": "completed"
    },
    "tags": []
   },
   "outputs": [
    {
     "name": "stdout",
     "output_type": "stream",
     "text": [
      "Xuất 6058 lỗi sai ra file: errors_POS_VnCoreNLP.csv\n"
     ]
    },
    {
     "data": {
      "text/html": [
       "<div>\n",
       "<style scoped>\n",
       "    .dataframe tbody tr th:only-of-type {\n",
       "        vertical-align: middle;\n",
       "    }\n",
       "\n",
       "    .dataframe tbody tr th {\n",
       "        vertical-align: top;\n",
       "    }\n",
       "\n",
       "    .dataframe thead th {\n",
       "        text-align: right;\n",
       "    }\n",
       "</style>\n",
       "<table border=\"1\" class=\"dataframe\">\n",
       "  <thead>\n",
       "    <tr style=\"text-align: right;\">\n",
       "      <th></th>\n",
       "      <th>sentence_id</th>\n",
       "      <th>position</th>\n",
       "      <th>word</th>\n",
       "      <th>true_label</th>\n",
       "      <th>predicted_label</th>\n",
       "    </tr>\n",
       "  </thead>\n",
       "  <tbody>\n",
       "    <tr>\n",
       "      <th>0</th>\n",
       "      <td>2</td>\n",
       "      <td>11</td>\n",
       "      <td>anh</td>\n",
       "      <td>Ns</td>\n",
       "      <td>N</td>\n",
       "    </tr>\n",
       "    <tr>\n",
       "      <th>1</th>\n",
       "      <td>2</td>\n",
       "      <td>22</td>\n",
       "      <td>anh</td>\n",
       "      <td>Ns</td>\n",
       "      <td>N</td>\n",
       "    </tr>\n",
       "    <tr>\n",
       "      <th>2</th>\n",
       "      <td>3</td>\n",
       "      <td>17</td>\n",
       "      <td>thêm</td>\n",
       "      <td>A</td>\n",
       "      <td>R</td>\n",
       "    </tr>\n",
       "    <tr>\n",
       "      <th>3</th>\n",
       "      <td>4</td>\n",
       "      <td>0</td>\n",
       "      <td>Về</td>\n",
       "      <td>V</td>\n",
       "      <td>E</td>\n",
       "    </tr>\n",
       "    <tr>\n",
       "      <th>4</th>\n",
       "      <td>4</td>\n",
       "      <td>3</td>\n",
       "      <td>ông</td>\n",
       "      <td>Ns</td>\n",
       "      <td>Nc</td>\n",
       "    </tr>\n",
       "    <tr>\n",
       "      <th>...</th>\n",
       "      <td>...</td>\n",
       "      <td>...</td>\n",
       "      <td>...</td>\n",
       "      <td>...</td>\n",
       "      <td>...</td>\n",
       "    </tr>\n",
       "    <tr>\n",
       "      <th>6053</th>\n",
       "      <td>2526</td>\n",
       "      <td>12</td>\n",
       "      <td>tuyệt_đối</td>\n",
       "      <td>V</td>\n",
       "      <td>A</td>\n",
       "    </tr>\n",
       "    <tr>\n",
       "      <th>6054</th>\n",
       "      <td>2527</td>\n",
       "      <td>10</td>\n",
       "      <td>người_ta</td>\n",
       "      <td>P</td>\n",
       "      <td>O</td>\n",
       "    </tr>\n",
       "    <tr>\n",
       "      <th>6055</th>\n",
       "      <td>2528</td>\n",
       "      <td>11</td>\n",
       "      <td>VN</td>\n",
       "      <td>Np</td>\n",
       "      <td>Ny</td>\n",
       "    </tr>\n",
       "    <tr>\n",
       "      <th>6056</th>\n",
       "      <td>2529</td>\n",
       "      <td>1</td>\n",
       "      <td>người</td>\n",
       "      <td>N</td>\n",
       "      <td>O</td>\n",
       "    </tr>\n",
       "    <tr>\n",
       "      <th>6057</th>\n",
       "      <td>2529</td>\n",
       "      <td>2</td>\n",
       "      <td>yêu_quí</td>\n",
       "      <td>V</td>\n",
       "      <td>O</td>\n",
       "    </tr>\n",
       "  </tbody>\n",
       "</table>\n",
       "<p>6058 rows × 5 columns</p>\n",
       "</div>"
      ],
      "text/plain": [
       "      sentence_id  position       word true_label predicted_label\n",
       "0               2        11        anh         Ns               N\n",
       "1               2        22        anh         Ns               N\n",
       "2               3        17       thêm          A               R\n",
       "3               4         0         Về          V               E\n",
       "4               4         3        ông         Ns              Nc\n",
       "...           ...       ...        ...        ...             ...\n",
       "6053         2526        12  tuyệt_đối          V               A\n",
       "6054         2527        10   người_ta          P               O\n",
       "6055         2528        11         VN         Np              Ny\n",
       "6056         2529         1      người          N               O\n",
       "6057         2529         2    yêu_quí          V               O\n",
       "\n",
       "[6058 rows x 5 columns]"
      ]
     },
     "execution_count": 27,
     "metadata": {},
     "output_type": "execute_result"
    }
   ],
   "source": [
    "export_errors_to_csv(sentences, true_pos_labels, pred_labels, output_file=\"errors_POS_VnCoreNLP.csv\")"
   ]
  }
 ],
 "metadata": {
  "kaggle": {
   "accelerator": "none",
   "dataSources": [
    {
     "datasetId": 7819093,
     "sourceId": 12400303,
     "sourceType": "datasetVersion"
    }
   ],
   "dockerImageVersionId": 31040,
   "isGpuEnabled": false,
   "isInternetEnabled": true,
   "language": "python",
   "sourceType": "notebook"
  },
  "kernelspec": {
   "display_name": "Python 3",
   "language": "python",
   "name": "python3"
  },
  "language_info": {
   "codemirror_mode": {
    "name": "ipython",
    "version": 3
   },
   "file_extension": ".py",
   "mimetype": "text/x-python",
   "name": "python",
   "nbconvert_exporter": "python",
   "pygments_lexer": "ipython3",
   "version": "3.11.11"
  },
  "papermill": {
   "default_parameters": {},
   "duration": 172.485795,
   "end_time": "2025-07-07T21:34:32.045523",
   "environment_variables": {},
   "exception": null,
   "input_path": "__notebook__.ipynb",
   "output_path": "__notebook__.ipynb",
   "parameters": {},
   "start_time": "2025-07-07T21:31:39.559728",
   "version": "2.6.0"
  },
  "widgets": {
   "application/vnd.jupyter.widget-state+json": {
    "state": {
     "04641e027cf540d7a43253c0029e05d8": {
      "model_module": "@jupyter-widgets/controls",
      "model_module_version": "2.0.0",
      "model_name": "ProgressStyleModel",
      "state": {
       "_model_module": "@jupyter-widgets/controls",
       "_model_module_version": "2.0.0",
       "_model_name": "ProgressStyleModel",
       "_view_count": null,
       "_view_module": "@jupyter-widgets/base",
       "_view_module_version": "2.0.0",
       "_view_name": "StyleView",
       "bar_color": null,
       "description_width": ""
      }
     },
     "0873ebbc489649e6b3f677e7af82ea8c": {
      "model_module": "@jupyter-widgets/base",
      "model_module_version": "2.0.0",
      "model_name": "LayoutModel",
      "state": {
       "_model_module": "@jupyter-widgets/base",
       "_model_module_version": "2.0.0",
       "_model_name": "LayoutModel",
       "_view_count": null,
       "_view_module": "@jupyter-widgets/base",
       "_view_module_version": "2.0.0",
       "_view_name": "LayoutView",
       "align_content": null,
       "align_items": null,
       "align_self": null,
       "border_bottom": null,
       "border_left": null,
       "border_right": null,
       "border_top": null,
       "bottom": null,
       "display": null,
       "flex": null,
       "flex_flow": null,
       "grid_area": null,
       "grid_auto_columns": null,
       "grid_auto_flow": null,
       "grid_auto_rows": null,
       "grid_column": null,
       "grid_gap": null,
       "grid_row": null,
       "grid_template_areas": null,
       "grid_template_columns": null,
       "grid_template_rows": null,
       "height": null,
       "justify_content": null,
       "justify_items": null,
       "left": null,
       "margin": null,
       "max_height": null,
       "max_width": null,
       "min_height": null,
       "min_width": null,
       "object_fit": null,
       "object_position": null,
       "order": null,
       "overflow": null,
       "padding": null,
       "right": null,
       "top": null,
       "visibility": null,
       "width": null
      }
     },
     "0a29e2ca3a884185b66902adccb8591f": {
      "model_module": "@jupyter-widgets/base",
      "model_module_version": "2.0.0",
      "model_name": "LayoutModel",
      "state": {
       "_model_module": "@jupyter-widgets/base",
       "_model_module_version": "2.0.0",
       "_model_name": "LayoutModel",
       "_view_count": null,
       "_view_module": "@jupyter-widgets/base",
       "_view_module_version": "2.0.0",
       "_view_name": "LayoutView",
       "align_content": null,
       "align_items": null,
       "align_self": null,
       "border_bottom": null,
       "border_left": null,
       "border_right": null,
       "border_top": null,
       "bottom": null,
       "display": null,
       "flex": null,
       "flex_flow": null,
       "grid_area": null,
       "grid_auto_columns": null,
       "grid_auto_flow": null,
       "grid_auto_rows": null,
       "grid_column": null,
       "grid_gap": null,
       "grid_row": null,
       "grid_template_areas": null,
       "grid_template_columns": null,
       "grid_template_rows": null,
       "height": null,
       "justify_content": null,
       "justify_items": null,
       "left": null,
       "margin": null,
       "max_height": null,
       "max_width": null,
       "min_height": null,
       "min_width": null,
       "object_fit": null,
       "object_position": null,
       "order": null,
       "overflow": null,
       "padding": null,
       "right": null,
       "top": null,
       "visibility": null,
       "width": null
      }
     },
     "0b97c349624840b4abeec06e7ffb848b": {
      "model_module": "@jupyter-widgets/base",
      "model_module_version": "2.0.0",
      "model_name": "LayoutModel",
      "state": {
       "_model_module": "@jupyter-widgets/base",
       "_model_module_version": "2.0.0",
       "_model_name": "LayoutModel",
       "_view_count": null,
       "_view_module": "@jupyter-widgets/base",
       "_view_module_version": "2.0.0",
       "_view_name": "LayoutView",
       "align_content": null,
       "align_items": null,
       "align_self": null,
       "border_bottom": null,
       "border_left": null,
       "border_right": null,
       "border_top": null,
       "bottom": null,
       "display": null,
       "flex": null,
       "flex_flow": null,
       "grid_area": null,
       "grid_auto_columns": null,
       "grid_auto_flow": null,
       "grid_auto_rows": null,
       "grid_column": null,
       "grid_gap": null,
       "grid_row": null,
       "grid_template_areas": null,
       "grid_template_columns": null,
       "grid_template_rows": null,
       "height": null,
       "justify_content": null,
       "justify_items": null,
       "left": null,
       "margin": null,
       "max_height": null,
       "max_width": null,
       "min_height": null,
       "min_width": null,
       "object_fit": null,
       "object_position": null,
       "order": null,
       "overflow": null,
       "padding": null,
       "right": null,
       "top": null,
       "visibility": null,
       "width": null
      }
     },
     "0dbebe98932f43709d2649e5794468bb": {
      "model_module": "@jupyter-widgets/base",
      "model_module_version": "2.0.0",
      "model_name": "LayoutModel",
      "state": {
       "_model_module": "@jupyter-widgets/base",
       "_model_module_version": "2.0.0",
       "_model_name": "LayoutModel",
       "_view_count": null,
       "_view_module": "@jupyter-widgets/base",
       "_view_module_version": "2.0.0",
       "_view_name": "LayoutView",
       "align_content": null,
       "align_items": null,
       "align_self": null,
       "border_bottom": null,
       "border_left": null,
       "border_right": null,
       "border_top": null,
       "bottom": null,
       "display": null,
       "flex": null,
       "flex_flow": null,
       "grid_area": null,
       "grid_auto_columns": null,
       "grid_auto_flow": null,
       "grid_auto_rows": null,
       "grid_column": null,
       "grid_gap": null,
       "grid_row": null,
       "grid_template_areas": null,
       "grid_template_columns": null,
       "grid_template_rows": null,
       "height": null,
       "justify_content": null,
       "justify_items": null,
       "left": null,
       "margin": null,
       "max_height": null,
       "max_width": null,
       "min_height": null,
       "min_width": null,
       "object_fit": null,
       "object_position": null,
       "order": null,
       "overflow": null,
       "padding": null,
       "right": null,
       "top": null,
       "visibility": null,
       "width": null
      }
     },
     "13d2f317b82d45d298ce263d678ec31b": {
      "model_module": "@jupyter-widgets/controls",
      "model_module_version": "2.0.0",
      "model_name": "HTMLModel",
      "state": {
       "_dom_classes": [],
       "_model_module": "@jupyter-widgets/controls",
       "_model_module_version": "2.0.0",
       "_model_name": "HTMLModel",
       "_view_count": null,
       "_view_module": "@jupyter-widgets/controls",
       "_view_module_version": "2.0.0",
       "_view_name": "HTMLView",
       "description": "",
       "description_allow_html": false,
       "layout": "IPY_MODEL_3d46b95adee64e76adef4c6839223e92",
       "placeholder": "​",
       "style": "IPY_MODEL_1f070554940d40f89db2dab7f8537bde",
       "tabbable": null,
       "tooltip": null,
       "value": "100%"
      }
     },
     "18f49ac58d76438a8e7b4f482ccaf411": {
      "model_module": "@jupyter-widgets/base",
      "model_module_version": "2.0.0",
      "model_name": "LayoutModel",
      "state": {
       "_model_module": "@jupyter-widgets/base",
       "_model_module_version": "2.0.0",
       "_model_name": "LayoutModel",
       "_view_count": null,
       "_view_module": "@jupyter-widgets/base",
       "_view_module_version": "2.0.0",
       "_view_name": "LayoutView",
       "align_content": null,
       "align_items": null,
       "align_self": null,
       "border_bottom": null,
       "border_left": null,
       "border_right": null,
       "border_top": null,
       "bottom": null,
       "display": null,
       "flex": null,
       "flex_flow": null,
       "grid_area": null,
       "grid_auto_columns": null,
       "grid_auto_flow": null,
       "grid_auto_rows": null,
       "grid_column": null,
       "grid_gap": null,
       "grid_row": null,
       "grid_template_areas": null,
       "grid_template_columns": null,
       "grid_template_rows": null,
       "height": null,
       "justify_content": null,
       "justify_items": null,
       "left": null,
       "margin": null,
       "max_height": null,
       "max_width": null,
       "min_height": null,
       "min_width": null,
       "object_fit": null,
       "object_position": null,
       "order": null,
       "overflow": null,
       "padding": null,
       "right": null,
       "top": null,
       "visibility": null,
       "width": null
      }
     },
     "195ac0d2adea41a79f7ef2d8c257ac57": {
      "model_module": "@jupyter-widgets/controls",
      "model_module_version": "2.0.0",
      "model_name": "HTMLModel",
      "state": {
       "_dom_classes": [],
       "_model_module": "@jupyter-widgets/controls",
       "_model_module_version": "2.0.0",
       "_model_name": "HTMLModel",
       "_view_count": null,
       "_view_module": "@jupyter-widgets/controls",
       "_view_module_version": "2.0.0",
       "_view_name": "HTMLView",
       "description": "",
       "description_allow_html": false,
       "layout": "IPY_MODEL_1d92cfcbe71f4017ba02344c0dbe0b0d",
       "placeholder": "​",
       "style": "IPY_MODEL_a6d8fe0b4cad4431a6ef446e5950006a",
       "tabbable": null,
       "tooltip": null,
       "value": " 2530/2530 [00:32&lt;00:00, 83.43it/s]"
      }
     },
     "1d92cfcbe71f4017ba02344c0dbe0b0d": {
      "model_module": "@jupyter-widgets/base",
      "model_module_version": "2.0.0",
      "model_name": "LayoutModel",
      "state": {
       "_model_module": "@jupyter-widgets/base",
       "_model_module_version": "2.0.0",
       "_model_name": "LayoutModel",
       "_view_count": null,
       "_view_module": "@jupyter-widgets/base",
       "_view_module_version": "2.0.0",
       "_view_name": "LayoutView",
       "align_content": null,
       "align_items": null,
       "align_self": null,
       "border_bottom": null,
       "border_left": null,
       "border_right": null,
       "border_top": null,
       "bottom": null,
       "display": null,
       "flex": null,
       "flex_flow": null,
       "grid_area": null,
       "grid_auto_columns": null,
       "grid_auto_flow": null,
       "grid_auto_rows": null,
       "grid_column": null,
       "grid_gap": null,
       "grid_row": null,
       "grid_template_areas": null,
       "grid_template_columns": null,
       "grid_template_rows": null,
       "height": null,
       "justify_content": null,
       "justify_items": null,
       "left": null,
       "margin": null,
       "max_height": null,
       "max_width": null,
       "min_height": null,
       "min_width": null,
       "object_fit": null,
       "object_position": null,
       "order": null,
       "overflow": null,
       "padding": null,
       "right": null,
       "top": null,
       "visibility": null,
       "width": null
      }
     },
     "1dfa7a84d8164369945e4e02dab28b00": {
      "model_module": "@jupyter-widgets/controls",
      "model_module_version": "2.0.0",
      "model_name": "ProgressStyleModel",
      "state": {
       "_model_module": "@jupyter-widgets/controls",
       "_model_module_version": "2.0.0",
       "_model_name": "ProgressStyleModel",
       "_view_count": null,
       "_view_module": "@jupyter-widgets/base",
       "_view_module_version": "2.0.0",
       "_view_name": "StyleView",
       "bar_color": null,
       "description_width": ""
      }
     },
     "1f070554940d40f89db2dab7f8537bde": {
      "model_module": "@jupyter-widgets/controls",
      "model_module_version": "2.0.0",
      "model_name": "HTMLStyleModel",
      "state": {
       "_model_module": "@jupyter-widgets/controls",
       "_model_module_version": "2.0.0",
       "_model_name": "HTMLStyleModel",
       "_view_count": null,
       "_view_module": "@jupyter-widgets/base",
       "_view_module_version": "2.0.0",
       "_view_name": "StyleView",
       "background": null,
       "description_width": "",
       "font_size": null,
       "text_color": null
      }
     },
     "27a0ad7471e9491fbf0dcef7d5a2ff6c": {
      "model_module": "@jupyter-widgets/controls",
      "model_module_version": "2.0.0",
      "model_name": "HTMLModel",
      "state": {
       "_dom_classes": [],
       "_model_module": "@jupyter-widgets/controls",
       "_model_module_version": "2.0.0",
       "_model_name": "HTMLModel",
       "_view_count": null,
       "_view_module": "@jupyter-widgets/controls",
       "_view_module_version": "2.0.0",
       "_view_name": "HTMLView",
       "description": "",
       "description_allow_html": false,
       "layout": "IPY_MODEL_4cd75a6fd40c4645bab2cad3a46a074a",
       "placeholder": "​",
       "style": "IPY_MODEL_607207421ecb4e23bb743f563339c364",
       "tabbable": null,
       "tooltip": null,
       "value": "100%"
      }
     },
     "28378f49dbb34844afc10de9de389737": {
      "model_module": "@jupyter-widgets/controls",
      "model_module_version": "2.0.0",
      "model_name": "HTMLModel",
      "state": {
       "_dom_classes": [],
       "_model_module": "@jupyter-widgets/controls",
       "_model_module_version": "2.0.0",
       "_model_name": "HTMLModel",
       "_view_count": null,
       "_view_module": "@jupyter-widgets/controls",
       "_view_module_version": "2.0.0",
       "_view_name": "HTMLView",
       "description": "",
       "description_allow_html": false,
       "layout": "IPY_MODEL_3dff1ad76a38430c92dbd7f9090fc956",
       "placeholder": "​",
       "style": "IPY_MODEL_77582f94e94c4a4abfd60bf79cd03e7d",
       "tabbable": null,
       "tooltip": null,
       "value": " 2530/2530 [00:15&lt;00:00, 196.33it/s]"
      }
     },
     "2bb2f6fc034d4af8a425f290fbe22607": {
      "model_module": "@jupyter-widgets/controls",
      "model_module_version": "2.0.0",
      "model_name": "HBoxModel",
      "state": {
       "_dom_classes": [],
       "_model_module": "@jupyter-widgets/controls",
       "_model_module_version": "2.0.0",
       "_model_name": "HBoxModel",
       "_view_count": null,
       "_view_module": "@jupyter-widgets/controls",
       "_view_module_version": "2.0.0",
       "_view_name": "HBoxView",
       "box_style": "",
       "children": [
        "IPY_MODEL_3eb4943d161a4e51a86599127e96abbe",
        "IPY_MODEL_efec35565b434708bd347eaed2576a9d",
        "IPY_MODEL_28378f49dbb34844afc10de9de389737"
       ],
       "layout": "IPY_MODEL_5fa98eb7a6754340b4683afa1bb1183c",
       "tabbable": null,
       "tooltip": null
      }
     },
     "30273a9aeee9497ba8367b26032a5e3c": {
      "model_module": "@jupyter-widgets/controls",
      "model_module_version": "2.0.0",
      "model_name": "ProgressStyleModel",
      "state": {
       "_model_module": "@jupyter-widgets/controls",
       "_model_module_version": "2.0.0",
       "_model_name": "ProgressStyleModel",
       "_view_count": null,
       "_view_module": "@jupyter-widgets/base",
       "_view_module_version": "2.0.0",
       "_view_name": "StyleView",
       "bar_color": null,
       "description_width": ""
      }
     },
     "32ac42cd4b7940eb9087693368629356": {
      "model_module": "@jupyter-widgets/base",
      "model_module_version": "2.0.0",
      "model_name": "LayoutModel",
      "state": {
       "_model_module": "@jupyter-widgets/base",
       "_model_module_version": "2.0.0",
       "_model_name": "LayoutModel",
       "_view_count": null,
       "_view_module": "@jupyter-widgets/base",
       "_view_module_version": "2.0.0",
       "_view_name": "LayoutView",
       "align_content": null,
       "align_items": null,
       "align_self": null,
       "border_bottom": null,
       "border_left": null,
       "border_right": null,
       "border_top": null,
       "bottom": null,
       "display": null,
       "flex": null,
       "flex_flow": null,
       "grid_area": null,
       "grid_auto_columns": null,
       "grid_auto_flow": null,
       "grid_auto_rows": null,
       "grid_column": null,
       "grid_gap": null,
       "grid_row": null,
       "grid_template_areas": null,
       "grid_template_columns": null,
       "grid_template_rows": null,
       "height": null,
       "justify_content": null,
       "justify_items": null,
       "left": null,
       "margin": null,
       "max_height": null,
       "max_width": null,
       "min_height": null,
       "min_width": null,
       "object_fit": null,
       "object_position": null,
       "order": null,
       "overflow": null,
       "padding": null,
       "right": null,
       "top": null,
       "visibility": null,
       "width": null
      }
     },
     "3d46b95adee64e76adef4c6839223e92": {
      "model_module": "@jupyter-widgets/base",
      "model_module_version": "2.0.0",
      "model_name": "LayoutModel",
      "state": {
       "_model_module": "@jupyter-widgets/base",
       "_model_module_version": "2.0.0",
       "_model_name": "LayoutModel",
       "_view_count": null,
       "_view_module": "@jupyter-widgets/base",
       "_view_module_version": "2.0.0",
       "_view_name": "LayoutView",
       "align_content": null,
       "align_items": null,
       "align_self": null,
       "border_bottom": null,
       "border_left": null,
       "border_right": null,
       "border_top": null,
       "bottom": null,
       "display": null,
       "flex": null,
       "flex_flow": null,
       "grid_area": null,
       "grid_auto_columns": null,
       "grid_auto_flow": null,
       "grid_auto_rows": null,
       "grid_column": null,
       "grid_gap": null,
       "grid_row": null,
       "grid_template_areas": null,
       "grid_template_columns": null,
       "grid_template_rows": null,
       "height": null,
       "justify_content": null,
       "justify_items": null,
       "left": null,
       "margin": null,
       "max_height": null,
       "max_width": null,
       "min_height": null,
       "min_width": null,
       "object_fit": null,
       "object_position": null,
       "order": null,
       "overflow": null,
       "padding": null,
       "right": null,
       "top": null,
       "visibility": null,
       "width": null
      }
     },
     "3dff1ad76a38430c92dbd7f9090fc956": {
      "model_module": "@jupyter-widgets/base",
      "model_module_version": "2.0.0",
      "model_name": "LayoutModel",
      "state": {
       "_model_module": "@jupyter-widgets/base",
       "_model_module_version": "2.0.0",
       "_model_name": "LayoutModel",
       "_view_count": null,
       "_view_module": "@jupyter-widgets/base",
       "_view_module_version": "2.0.0",
       "_view_name": "LayoutView",
       "align_content": null,
       "align_items": null,
       "align_self": null,
       "border_bottom": null,
       "border_left": null,
       "border_right": null,
       "border_top": null,
       "bottom": null,
       "display": null,
       "flex": null,
       "flex_flow": null,
       "grid_area": null,
       "grid_auto_columns": null,
       "grid_auto_flow": null,
       "grid_auto_rows": null,
       "grid_column": null,
       "grid_gap": null,
       "grid_row": null,
       "grid_template_areas": null,
       "grid_template_columns": null,
       "grid_template_rows": null,
       "height": null,
       "justify_content": null,
       "justify_items": null,
       "left": null,
       "margin": null,
       "max_height": null,
       "max_width": null,
       "min_height": null,
       "min_width": null,
       "object_fit": null,
       "object_position": null,
       "order": null,
       "overflow": null,
       "padding": null,
       "right": null,
       "top": null,
       "visibility": null,
       "width": null
      }
     },
     "3eb4943d161a4e51a86599127e96abbe": {
      "model_module": "@jupyter-widgets/controls",
      "model_module_version": "2.0.0",
      "model_name": "HTMLModel",
      "state": {
       "_dom_classes": [],
       "_model_module": "@jupyter-widgets/controls",
       "_model_module_version": "2.0.0",
       "_model_name": "HTMLModel",
       "_view_count": null,
       "_view_module": "@jupyter-widgets/controls",
       "_view_module_version": "2.0.0",
       "_view_name": "HTMLView",
       "description": "",
       "description_allow_html": false,
       "layout": "IPY_MODEL_18f49ac58d76438a8e7b4f482ccaf411",
       "placeholder": "​",
       "style": "IPY_MODEL_ec32001fc2fb4d82b843133344e55569",
       "tabbable": null,
       "tooltip": null,
       "value": "100%"
      }
     },
     "401d73b51f274457a82dde23affa57c9": {
      "model_module": "@jupyter-widgets/controls",
      "model_module_version": "2.0.0",
      "model_name": "FloatProgressModel",
      "state": {
       "_dom_classes": [],
       "_model_module": "@jupyter-widgets/controls",
       "_model_module_version": "2.0.0",
       "_model_name": "FloatProgressModel",
       "_view_count": null,
       "_view_module": "@jupyter-widgets/controls",
       "_view_module_version": "2.0.0",
       "_view_name": "ProgressView",
       "bar_style": "success",
       "description": "",
       "description_allow_html": false,
       "layout": "IPY_MODEL_32ac42cd4b7940eb9087693368629356",
       "max": 2530.0,
       "min": 0.0,
       "orientation": "horizontal",
       "style": "IPY_MODEL_04641e027cf540d7a43253c0029e05d8",
       "tabbable": null,
       "tooltip": null,
       "value": 2530.0
      }
     },
     "4cd75a6fd40c4645bab2cad3a46a074a": {
      "model_module": "@jupyter-widgets/base",
      "model_module_version": "2.0.0",
      "model_name": "LayoutModel",
      "state": {
       "_model_module": "@jupyter-widgets/base",
       "_model_module_version": "2.0.0",
       "_model_name": "LayoutModel",
       "_view_count": null,
       "_view_module": "@jupyter-widgets/base",
       "_view_module_version": "2.0.0",
       "_view_name": "LayoutView",
       "align_content": null,
       "align_items": null,
       "align_self": null,
       "border_bottom": null,
       "border_left": null,
       "border_right": null,
       "border_top": null,
       "bottom": null,
       "display": null,
       "flex": null,
       "flex_flow": null,
       "grid_area": null,
       "grid_auto_columns": null,
       "grid_auto_flow": null,
       "grid_auto_rows": null,
       "grid_column": null,
       "grid_gap": null,
       "grid_row": null,
       "grid_template_areas": null,
       "grid_template_columns": null,
       "grid_template_rows": null,
       "height": null,
       "justify_content": null,
       "justify_items": null,
       "left": null,
       "margin": null,
       "max_height": null,
       "max_width": null,
       "min_height": null,
       "min_width": null,
       "object_fit": null,
       "object_position": null,
       "order": null,
       "overflow": null,
       "padding": null,
       "right": null,
       "top": null,
       "visibility": null,
       "width": null
      }
     },
     "5fa98eb7a6754340b4683afa1bb1183c": {
      "model_module": "@jupyter-widgets/base",
      "model_module_version": "2.0.0",
      "model_name": "LayoutModel",
      "state": {
       "_model_module": "@jupyter-widgets/base",
       "_model_module_version": "2.0.0",
       "_model_name": "LayoutModel",
       "_view_count": null,
       "_view_module": "@jupyter-widgets/base",
       "_view_module_version": "2.0.0",
       "_view_name": "LayoutView",
       "align_content": null,
       "align_items": null,
       "align_self": null,
       "border_bottom": null,
       "border_left": null,
       "border_right": null,
       "border_top": null,
       "bottom": null,
       "display": null,
       "flex": null,
       "flex_flow": null,
       "grid_area": null,
       "grid_auto_columns": null,
       "grid_auto_flow": null,
       "grid_auto_rows": null,
       "grid_column": null,
       "grid_gap": null,
       "grid_row": null,
       "grid_template_areas": null,
       "grid_template_columns": null,
       "grid_template_rows": null,
       "height": null,
       "justify_content": null,
       "justify_items": null,
       "left": null,
       "margin": null,
       "max_height": null,
       "max_width": null,
       "min_height": null,
       "min_width": null,
       "object_fit": null,
       "object_position": null,
       "order": null,
       "overflow": null,
       "padding": null,
       "right": null,
       "top": null,
       "visibility": null,
       "width": null
      }
     },
     "607207421ecb4e23bb743f563339c364": {
      "model_module": "@jupyter-widgets/controls",
      "model_module_version": "2.0.0",
      "model_name": "HTMLStyleModel",
      "state": {
       "_model_module": "@jupyter-widgets/controls",
       "_model_module_version": "2.0.0",
       "_model_name": "HTMLStyleModel",
       "_view_count": null,
       "_view_module": "@jupyter-widgets/base",
       "_view_module_version": "2.0.0",
       "_view_name": "StyleView",
       "background": null,
       "description_width": "",
       "font_size": null,
       "text_color": null
      }
     },
     "61941917844a4e26881f21489dbd67f6": {
      "model_module": "@jupyter-widgets/base",
      "model_module_version": "2.0.0",
      "model_name": "LayoutModel",
      "state": {
       "_model_module": "@jupyter-widgets/base",
       "_model_module_version": "2.0.0",
       "_model_name": "LayoutModel",
       "_view_count": null,
       "_view_module": "@jupyter-widgets/base",
       "_view_module_version": "2.0.0",
       "_view_name": "LayoutView",
       "align_content": null,
       "align_items": null,
       "align_self": null,
       "border_bottom": null,
       "border_left": null,
       "border_right": null,
       "border_top": null,
       "bottom": null,
       "display": null,
       "flex": null,
       "flex_flow": null,
       "grid_area": null,
       "grid_auto_columns": null,
       "grid_auto_flow": null,
       "grid_auto_rows": null,
       "grid_column": null,
       "grid_gap": null,
       "grid_row": null,
       "grid_template_areas": null,
       "grid_template_columns": null,
       "grid_template_rows": null,
       "height": null,
       "justify_content": null,
       "justify_items": null,
       "left": null,
       "margin": null,
       "max_height": null,
       "max_width": null,
       "min_height": null,
       "min_width": null,
       "object_fit": null,
       "object_position": null,
       "order": null,
       "overflow": null,
       "padding": null,
       "right": null,
       "top": null,
       "visibility": null,
       "width": null
      }
     },
     "652c70d744564d0a86b3db6dfc13154f": {
      "model_module": "@jupyter-widgets/controls",
      "model_module_version": "2.0.0",
      "model_name": "FloatProgressModel",
      "state": {
       "_dom_classes": [],
       "_model_module": "@jupyter-widgets/controls",
       "_model_module_version": "2.0.0",
       "_model_name": "FloatProgressModel",
       "_view_count": null,
       "_view_module": "@jupyter-widgets/controls",
       "_view_module_version": "2.0.0",
       "_view_name": "ProgressView",
       "bar_style": "success",
       "description": "",
       "description_allow_html": false,
       "layout": "IPY_MODEL_b59b005d09244937a7bfaac93a95fa28",
       "max": 2530.0,
       "min": 0.0,
       "orientation": "horizontal",
       "style": "IPY_MODEL_30273a9aeee9497ba8367b26032a5e3c",
       "tabbable": null,
       "tooltip": null,
       "value": 2530.0
      }
     },
     "66260d1bfa664086a383989fdbb8aa26": {
      "model_module": "@jupyter-widgets/controls",
      "model_module_version": "2.0.0",
      "model_name": "HBoxModel",
      "state": {
       "_dom_classes": [],
       "_model_module": "@jupyter-widgets/controls",
       "_model_module_version": "2.0.0",
       "_model_name": "HBoxModel",
       "_view_count": null,
       "_view_module": "@jupyter-widgets/controls",
       "_view_module_version": "2.0.0",
       "_view_name": "HBoxView",
       "box_style": "",
       "children": [
        "IPY_MODEL_27a0ad7471e9491fbf0dcef7d5a2ff6c",
        "IPY_MODEL_a350dfb7701241d8a69d7ec08e86a2c6",
        "IPY_MODEL_7641b9709d8f405685693dad726798a5"
       ],
       "layout": "IPY_MODEL_0a29e2ca3a884185b66902adccb8591f",
       "tabbable": null,
       "tooltip": null
      }
     },
     "7641b9709d8f405685693dad726798a5": {
      "model_module": "@jupyter-widgets/controls",
      "model_module_version": "2.0.0",
      "model_name": "HTMLModel",
      "state": {
       "_dom_classes": [],
       "_model_module": "@jupyter-widgets/controls",
       "_model_module_version": "2.0.0",
       "_model_name": "HTMLModel",
       "_view_count": null,
       "_view_module": "@jupyter-widgets/controls",
       "_view_module_version": "2.0.0",
       "_view_name": "HTMLView",
       "description": "",
       "description_allow_html": false,
       "layout": "IPY_MODEL_0dbebe98932f43709d2649e5794468bb",
       "placeholder": "​",
       "style": "IPY_MODEL_e3dd31f3168643bda1fae1da2af898a3",
       "tabbable": null,
       "tooltip": null,
       "value": " 2530/2530 [00:10&lt;00:00, 252.94it/s]"
      }
     },
     "77582f94e94c4a4abfd60bf79cd03e7d": {
      "model_module": "@jupyter-widgets/controls",
      "model_module_version": "2.0.0",
      "model_name": "HTMLStyleModel",
      "state": {
       "_model_module": "@jupyter-widgets/controls",
       "_model_module_version": "2.0.0",
       "_model_name": "HTMLStyleModel",
       "_view_count": null,
       "_view_module": "@jupyter-widgets/base",
       "_view_module_version": "2.0.0",
       "_view_name": "StyleView",
       "background": null,
       "description_width": "",
       "font_size": null,
       "text_color": null
      }
     },
     "7b917ee491f8474cb25d68bd6c9ec60d": {
      "model_module": "@jupyter-widgets/controls",
      "model_module_version": "2.0.0",
      "model_name": "HTMLModel",
      "state": {
       "_dom_classes": [],
       "_model_module": "@jupyter-widgets/controls",
       "_model_module_version": "2.0.0",
       "_model_name": "HTMLModel",
       "_view_count": null,
       "_view_module": "@jupyter-widgets/controls",
       "_view_module_version": "2.0.0",
       "_view_name": "HTMLView",
       "description": "",
       "description_allow_html": false,
       "layout": "IPY_MODEL_61941917844a4e26881f21489dbd67f6",
       "placeholder": "​",
       "style": "IPY_MODEL_c07634eb097b4959b86f049efdb39951",
       "tabbable": null,
       "tooltip": null,
       "value": " 2530/2530 [00:08&lt;00:00, 300.96it/s]"
      }
     },
     "90fed060b86c475296ec58ffea993098": {
      "model_module": "@jupyter-widgets/controls",
      "model_module_version": "2.0.0",
      "model_name": "HTMLModel",
      "state": {
       "_dom_classes": [],
       "_model_module": "@jupyter-widgets/controls",
       "_model_module_version": "2.0.0",
       "_model_name": "HTMLModel",
       "_view_count": null,
       "_view_module": "@jupyter-widgets/controls",
       "_view_module_version": "2.0.0",
       "_view_name": "HTMLView",
       "description": "",
       "description_allow_html": false,
       "layout": "IPY_MODEL_efa2c4dfe1c74acca1c6a0bb9d05d13d",
       "placeholder": "​",
       "style": "IPY_MODEL_97143a43d9a64ba686faaf28e352045a",
       "tabbable": null,
       "tooltip": null,
       "value": "100%"
      }
     },
     "96f3feb754424a85ba945cf01b7ed2ba": {
      "model_module": "@jupyter-widgets/controls",
      "model_module_version": "2.0.0",
      "model_name": "HBoxModel",
      "state": {
       "_dom_classes": [],
       "_model_module": "@jupyter-widgets/controls",
       "_model_module_version": "2.0.0",
       "_model_name": "HBoxModel",
       "_view_count": null,
       "_view_module": "@jupyter-widgets/controls",
       "_view_module_version": "2.0.0",
       "_view_name": "HBoxView",
       "box_style": "",
       "children": [
        "IPY_MODEL_13d2f317b82d45d298ce263d678ec31b",
        "IPY_MODEL_652c70d744564d0a86b3db6dfc13154f",
        "IPY_MODEL_195ac0d2adea41a79f7ef2d8c257ac57"
       ],
       "layout": "IPY_MODEL_dc2d5085d0e7444e9bd737528e6dec6f",
       "tabbable": null,
       "tooltip": null
      }
     },
     "97143a43d9a64ba686faaf28e352045a": {
      "model_module": "@jupyter-widgets/controls",
      "model_module_version": "2.0.0",
      "model_name": "HTMLStyleModel",
      "state": {
       "_model_module": "@jupyter-widgets/controls",
       "_model_module_version": "2.0.0",
       "_model_name": "HTMLStyleModel",
       "_view_count": null,
       "_view_module": "@jupyter-widgets/base",
       "_view_module_version": "2.0.0",
       "_view_name": "StyleView",
       "background": null,
       "description_width": "",
       "font_size": null,
       "text_color": null
      }
     },
     "9a6d55408a224e81873faca0f1678c68": {
      "model_module": "@jupyter-widgets/controls",
      "model_module_version": "2.0.0",
      "model_name": "ProgressStyleModel",
      "state": {
       "_model_module": "@jupyter-widgets/controls",
       "_model_module_version": "2.0.0",
       "_model_name": "ProgressStyleModel",
       "_view_count": null,
       "_view_module": "@jupyter-widgets/base",
       "_view_module_version": "2.0.0",
       "_view_name": "StyleView",
       "bar_color": null,
       "description_width": ""
      }
     },
     "a350dfb7701241d8a69d7ec08e86a2c6": {
      "model_module": "@jupyter-widgets/controls",
      "model_module_version": "2.0.0",
      "model_name": "FloatProgressModel",
      "state": {
       "_dom_classes": [],
       "_model_module": "@jupyter-widgets/controls",
       "_model_module_version": "2.0.0",
       "_model_name": "FloatProgressModel",
       "_view_count": null,
       "_view_module": "@jupyter-widgets/controls",
       "_view_module_version": "2.0.0",
       "_view_name": "ProgressView",
       "bar_style": "success",
       "description": "",
       "description_allow_html": false,
       "layout": "IPY_MODEL_0b97c349624840b4abeec06e7ffb848b",
       "max": 2530.0,
       "min": 0.0,
       "orientation": "horizontal",
       "style": "IPY_MODEL_9a6d55408a224e81873faca0f1678c68",
       "tabbable": null,
       "tooltip": null,
       "value": 2530.0
      }
     },
     "a6d8fe0b4cad4431a6ef446e5950006a": {
      "model_module": "@jupyter-widgets/controls",
      "model_module_version": "2.0.0",
      "model_name": "HTMLStyleModel",
      "state": {
       "_model_module": "@jupyter-widgets/controls",
       "_model_module_version": "2.0.0",
       "_model_name": "HTMLStyleModel",
       "_view_count": null,
       "_view_module": "@jupyter-widgets/base",
       "_view_module_version": "2.0.0",
       "_view_name": "StyleView",
       "background": null,
       "description_width": "",
       "font_size": null,
       "text_color": null
      }
     },
     "b59b005d09244937a7bfaac93a95fa28": {
      "model_module": "@jupyter-widgets/base",
      "model_module_version": "2.0.0",
      "model_name": "LayoutModel",
      "state": {
       "_model_module": "@jupyter-widgets/base",
       "_model_module_version": "2.0.0",
       "_model_name": "LayoutModel",
       "_view_count": null,
       "_view_module": "@jupyter-widgets/base",
       "_view_module_version": "2.0.0",
       "_view_name": "LayoutView",
       "align_content": null,
       "align_items": null,
       "align_self": null,
       "border_bottom": null,
       "border_left": null,
       "border_right": null,
       "border_top": null,
       "bottom": null,
       "display": null,
       "flex": null,
       "flex_flow": null,
       "grid_area": null,
       "grid_auto_columns": null,
       "grid_auto_flow": null,
       "grid_auto_rows": null,
       "grid_column": null,
       "grid_gap": null,
       "grid_row": null,
       "grid_template_areas": null,
       "grid_template_columns": null,
       "grid_template_rows": null,
       "height": null,
       "justify_content": null,
       "justify_items": null,
       "left": null,
       "margin": null,
       "max_height": null,
       "max_width": null,
       "min_height": null,
       "min_width": null,
       "object_fit": null,
       "object_position": null,
       "order": null,
       "overflow": null,
       "padding": null,
       "right": null,
       "top": null,
       "visibility": null,
       "width": null
      }
     },
     "c07634eb097b4959b86f049efdb39951": {
      "model_module": "@jupyter-widgets/controls",
      "model_module_version": "2.0.0",
      "model_name": "HTMLStyleModel",
      "state": {
       "_model_module": "@jupyter-widgets/controls",
       "_model_module_version": "2.0.0",
       "_model_name": "HTMLStyleModel",
       "_view_count": null,
       "_view_module": "@jupyter-widgets/base",
       "_view_module_version": "2.0.0",
       "_view_name": "StyleView",
       "background": null,
       "description_width": "",
       "font_size": null,
       "text_color": null
      }
     },
     "d2fcc549495a4b11894128184c93dcf3": {
      "model_module": "@jupyter-widgets/controls",
      "model_module_version": "2.0.0",
      "model_name": "HBoxModel",
      "state": {
       "_dom_classes": [],
       "_model_module": "@jupyter-widgets/controls",
       "_model_module_version": "2.0.0",
       "_model_name": "HBoxModel",
       "_view_count": null,
       "_view_module": "@jupyter-widgets/controls",
       "_view_module_version": "2.0.0",
       "_view_name": "HBoxView",
       "box_style": "",
       "children": [
        "IPY_MODEL_90fed060b86c475296ec58ffea993098",
        "IPY_MODEL_401d73b51f274457a82dde23affa57c9",
        "IPY_MODEL_7b917ee491f8474cb25d68bd6c9ec60d"
       ],
       "layout": "IPY_MODEL_ea07ac763ba544e2b605e1446e29e2fa",
       "tabbable": null,
       "tooltip": null
      }
     },
     "dc2d5085d0e7444e9bd737528e6dec6f": {
      "model_module": "@jupyter-widgets/base",
      "model_module_version": "2.0.0",
      "model_name": "LayoutModel",
      "state": {
       "_model_module": "@jupyter-widgets/base",
       "_model_module_version": "2.0.0",
       "_model_name": "LayoutModel",
       "_view_count": null,
       "_view_module": "@jupyter-widgets/base",
       "_view_module_version": "2.0.0",
       "_view_name": "LayoutView",
       "align_content": null,
       "align_items": null,
       "align_self": null,
       "border_bottom": null,
       "border_left": null,
       "border_right": null,
       "border_top": null,
       "bottom": null,
       "display": null,
       "flex": null,
       "flex_flow": null,
       "grid_area": null,
       "grid_auto_columns": null,
       "grid_auto_flow": null,
       "grid_auto_rows": null,
       "grid_column": null,
       "grid_gap": null,
       "grid_row": null,
       "grid_template_areas": null,
       "grid_template_columns": null,
       "grid_template_rows": null,
       "height": null,
       "justify_content": null,
       "justify_items": null,
       "left": null,
       "margin": null,
       "max_height": null,
       "max_width": null,
       "min_height": null,
       "min_width": null,
       "object_fit": null,
       "object_position": null,
       "order": null,
       "overflow": null,
       "padding": null,
       "right": null,
       "top": null,
       "visibility": null,
       "width": null
      }
     },
     "e3dd31f3168643bda1fae1da2af898a3": {
      "model_module": "@jupyter-widgets/controls",
      "model_module_version": "2.0.0",
      "model_name": "HTMLStyleModel",
      "state": {
       "_model_module": "@jupyter-widgets/controls",
       "_model_module_version": "2.0.0",
       "_model_name": "HTMLStyleModel",
       "_view_count": null,
       "_view_module": "@jupyter-widgets/base",
       "_view_module_version": "2.0.0",
       "_view_name": "StyleView",
       "background": null,
       "description_width": "",
       "font_size": null,
       "text_color": null
      }
     },
     "ea07ac763ba544e2b605e1446e29e2fa": {
      "model_module": "@jupyter-widgets/base",
      "model_module_version": "2.0.0",
      "model_name": "LayoutModel",
      "state": {
       "_model_module": "@jupyter-widgets/base",
       "_model_module_version": "2.0.0",
       "_model_name": "LayoutModel",
       "_view_count": null,
       "_view_module": "@jupyter-widgets/base",
       "_view_module_version": "2.0.0",
       "_view_name": "LayoutView",
       "align_content": null,
       "align_items": null,
       "align_self": null,
       "border_bottom": null,
       "border_left": null,
       "border_right": null,
       "border_top": null,
       "bottom": null,
       "display": null,
       "flex": null,
       "flex_flow": null,
       "grid_area": null,
       "grid_auto_columns": null,
       "grid_auto_flow": null,
       "grid_auto_rows": null,
       "grid_column": null,
       "grid_gap": null,
       "grid_row": null,
       "grid_template_areas": null,
       "grid_template_columns": null,
       "grid_template_rows": null,
       "height": null,
       "justify_content": null,
       "justify_items": null,
       "left": null,
       "margin": null,
       "max_height": null,
       "max_width": null,
       "min_height": null,
       "min_width": null,
       "object_fit": null,
       "object_position": null,
       "order": null,
       "overflow": null,
       "padding": null,
       "right": null,
       "top": null,
       "visibility": null,
       "width": null
      }
     },
     "ec32001fc2fb4d82b843133344e55569": {
      "model_module": "@jupyter-widgets/controls",
      "model_module_version": "2.0.0",
      "model_name": "HTMLStyleModel",
      "state": {
       "_model_module": "@jupyter-widgets/controls",
       "_model_module_version": "2.0.0",
       "_model_name": "HTMLStyleModel",
       "_view_count": null,
       "_view_module": "@jupyter-widgets/base",
       "_view_module_version": "2.0.0",
       "_view_name": "StyleView",
       "background": null,
       "description_width": "",
       "font_size": null,
       "text_color": null
      }
     },
     "efa2c4dfe1c74acca1c6a0bb9d05d13d": {
      "model_module": "@jupyter-widgets/base",
      "model_module_version": "2.0.0",
      "model_name": "LayoutModel",
      "state": {
       "_model_module": "@jupyter-widgets/base",
       "_model_module_version": "2.0.0",
       "_model_name": "LayoutModel",
       "_view_count": null,
       "_view_module": "@jupyter-widgets/base",
       "_view_module_version": "2.0.0",
       "_view_name": "LayoutView",
       "align_content": null,
       "align_items": null,
       "align_self": null,
       "border_bottom": null,
       "border_left": null,
       "border_right": null,
       "border_top": null,
       "bottom": null,
       "display": null,
       "flex": null,
       "flex_flow": null,
       "grid_area": null,
       "grid_auto_columns": null,
       "grid_auto_flow": null,
       "grid_auto_rows": null,
       "grid_column": null,
       "grid_gap": null,
       "grid_row": null,
       "grid_template_areas": null,
       "grid_template_columns": null,
       "grid_template_rows": null,
       "height": null,
       "justify_content": null,
       "justify_items": null,
       "left": null,
       "margin": null,
       "max_height": null,
       "max_width": null,
       "min_height": null,
       "min_width": null,
       "object_fit": null,
       "object_position": null,
       "order": null,
       "overflow": null,
       "padding": null,
       "right": null,
       "top": null,
       "visibility": null,
       "width": null
      }
     },
     "efec35565b434708bd347eaed2576a9d": {
      "model_module": "@jupyter-widgets/controls",
      "model_module_version": "2.0.0",
      "model_name": "FloatProgressModel",
      "state": {
       "_dom_classes": [],
       "_model_module": "@jupyter-widgets/controls",
       "_model_module_version": "2.0.0",
       "_model_name": "FloatProgressModel",
       "_view_count": null,
       "_view_module": "@jupyter-widgets/controls",
       "_view_module_version": "2.0.0",
       "_view_name": "ProgressView",
       "bar_style": "success",
       "description": "",
       "description_allow_html": false,
       "layout": "IPY_MODEL_0873ebbc489649e6b3f677e7af82ea8c",
       "max": 2530.0,
       "min": 0.0,
       "orientation": "horizontal",
       "style": "IPY_MODEL_1dfa7a84d8164369945e4e02dab28b00",
       "tabbable": null,
       "tooltip": null,
       "value": 2530.0
      }
     }
    },
    "version_major": 2,
    "version_minor": 0
   }
  }
 },
 "nbformat": 4,
 "nbformat_minor": 5
}
